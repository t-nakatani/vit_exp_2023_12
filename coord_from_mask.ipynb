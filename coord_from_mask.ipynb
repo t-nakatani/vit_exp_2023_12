{
 "cells": [
  {
   "cell_type": "code",
   "execution_count": 1,
   "id": "b2b91e39",
   "metadata": {},
   "outputs": [],
   "source": [
    "from glob import glob\n",
    "from PIL import Image\n",
    "import numpy as np\n",
    "import torch"
   ]
  },
  {
   "cell_type": "code",
   "execution_count": 7,
   "id": "beb6f68b",
   "metadata": {},
   "outputs": [],
   "source": [
    "def channelize(mask_array, n_classes=10):\n",
    "    mask_10d = torch.zeros(n_classes, mask_array.shape[0], mask_array.shape[1], dtype=torch.float32)\n",
    "    for i in range(n_classes): \n",
    "        mask_10d[i, :, :] = torch.tensor(mask == i, dtype=torch.float32)\n",
    "    return mask_10d\n",
    "\n",
    "def get_center_array(mask_10d, coord_filter, relative=False):\n",
    "    for mask_i in mask_10d[1:]:\n",
    "        if int(mask_i.sum()) == 0:\n",
    "            coords.append([0, 0])\n",
    "            continue\n",
    "        center_yx = [int((mask_i * coord_filter[:, :, 0]).sum() / mask_i.sum()), int((mask_i * coord_filter[:, :, 1]).sum() / mask_i.sum())]\n",
    "        if relative:\n",
    "            center_yx[0] /= mask_i.shape[0]\n",
    "            center_yx[1] /= mask_i.shape[1]\n",
    "        coords.append(center_yx)\n",
    "    assert len(coords) == n_classes - 1, 'dim incorrect'\n",
    "    return torch.Tensor(coords)"
   ]
  },
  {
   "cell_type": "code",
   "execution_count": 8,
   "id": "f1c7a9d7",
   "metadata": {},
   "outputs": [],
   "source": [
    "## 重心を求めるためのフィルタ\n",
    "\n",
    "len_ = 1436\n",
    "coord_filter = np.array([[(i, j) for j in range(len_)] for i in range(len_)])"
   ]
  },
  {
   "cell_type": "code",
   "execution_count": 9,
   "id": "d1a543ec",
   "metadata": {},
   "outputs": [
    {
     "data": {
      "text/plain": [
       "'../../../create_synthe_2023/synthetic_flw/flw/白紫/000000.png'"
      ]
     },
     "execution_count": 9,
     "metadata": {},
     "output_type": "execute_result"
    }
   ],
   "source": [
    "img_paths = sorted(glob('../../../create_synthe_2023/synthetic_flw/flw/*/*'))\n",
    "img_paths[0]"
   ]
  },
  {
   "cell_type": "code",
   "execution_count": 11,
   "id": "1e9ce41d",
   "metadata": {
    "scrolled": true
   },
   "outputs": [
    {
     "data": {
      "text/plain": [
       "torch.Size([9, 2])"
      ]
     },
     "execution_count": 11,
     "metadata": {},
     "output_type": "execute_result"
    }
   ],
   "source": [
    "n_classes = 10\n",
    "\n",
    "for img_path in img_paths:\n",
    "    coords = []\n",
    "    mask = np.array(Image.open(img_path.replace('/flw/', '/mask/')).convert(\"L\"))\n",
    "\n",
    "    mask_10d = channelize(mask)\n",
    "    coords = get_center_array(mask_10d, coord_filter)\n",
    "    break\n",
    "coords.shape"
   ]
  },
  {
   "cell_type": "code",
   "execution_count": 18,
   "id": "0b7ef5fa-6462-41a0-9421-5ed5c0affa6d",
   "metadata": {},
   "outputs": [
    {
     "data": {
      "text/plain": [
       "torch.Size([9, 1436, 1436])"
      ]
     },
     "execution_count": 18,
     "metadata": {},
     "output_type": "execute_result"
    }
   ],
   "source": [
    "mask_10d[1:].shape"
   ]
  },
  {
   "cell_type": "code",
   "execution_count": 19,
   "id": "bd34f5ad-c230-44e2-acc5-70a5f7810d18",
   "metadata": {},
   "outputs": [
    {
     "data": {
      "text/plain": [
       "(1436, 1436, 2)"
      ]
     },
     "execution_count": 19,
     "metadata": {},
     "output_type": "execute_result"
    }
   ],
   "source": [
    "coord_filter.shape"
   ]
  },
  {
   "cell_type": "markdown",
   "id": "cad34639",
   "metadata": {},
   "source": [
    "***"
   ]
  },
  {
   "cell_type": "markdown",
   "id": "d1650fea",
   "metadata": {},
   "source": [
    "## おまけ(可視化)"
   ]
  },
  {
   "cell_type": "code",
   "execution_count": 34,
   "id": "4f7777be",
   "metadata": {
    "scrolled": true
   },
   "outputs": [
    {
     "data": {
      "text/plain": [
       "torch.Size([1436, 1436])"
      ]
     },
     "execution_count": 34,
     "metadata": {},
     "output_type": "execute_result"
    },
    {
     "data": {
      "image/png": "[encoded data removed]",
      "text/plain": [
       "<Figure size 640x480 with 1 Axes>"
      ]
     },
     "metadata": {},
     "output_type": "display_data"
    }
   ],
   "source": [
    "import matplotlib.pyplot as plt\n",
    "plt.imshow(mask_10d[1])\n",
    "mask_10d[1].shape"
   ]
  },
  {
   "cell_type": "code",
   "execution_count": null,
   "id": "533e7af1",
   "metadata": {},
   "outputs": [],
   "source": []
  }
 ],
 "metadata": {
  "kernelspec": {
   "display_name": "Python 3 (ipykernel)",
   "language": "python",
   "name": "python3"
  },
  "language_info": {
   "codemirror_mode": {
    "name": "ipython",
    "version": 3
   },
   "file_extension": ".py",
   "mimetype": "text/x-python",
   "name": "python",
   "nbconvert_exporter": "python",
   "pygments_lexer": "ipython3",
   "version": "3.10.13"
  }
 },
 "nbformat": 4,
 "nbformat_minor": 5
}
