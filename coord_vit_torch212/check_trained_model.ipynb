{
 "cells": [
  {
   "cell_type": "code",
   "execution_count": 2,
   "id": "fa636ffd-f164-4c29-b2a6-4d58433376eb",
   "metadata": {
    "scrolled": true
   },
   "outputs": [
    {
     "name": "stdout",
     "output_type": "stream",
     "text": [
      "\u001b[33mWARNING: Running pip as the 'root' user can result in broken permissions and conflicting behaviour with the system package manager. It is recommended to use a virtual environment instead: https://pip.pypa.io/warnings/venv\u001b[0m\u001b[33m\n",
      "\u001b[0m"
     ]
    }
   ],
   "source": [
    "!pip install --upgrade -q ipython"
   ]
  },
  {
   "cell_type": "markdown",
   "id": "577f55b0",
   "metadata": {},
   "source": [
    "## 変更点\n"
   ]
  },
  {
   "cell_type": "markdown",
   "id": "658fd60c",
   "metadata": {},
   "source": [
    "## 実験メモ\n",
    "\n",
    "#### 12/26\n",
    "* augumentationをするために、逐次マスクからcoordsに変換した方がいい\n",
    "* 角度は、0と2piでズレがほとんどないのにlossが大きくなってしまうので、単位円上の座標が良さそう\n",
    "* embeddingが無理？ embeddingは有限通りの入力をd_model次元で表現するものだから、従うためには有限通りの座標に落とし込む必要がある。となるとやはり角度が有利か。\n",
    "* 座標でembeddingするには、どのパッチの上に乗っているかをidxで表して、それを埋め込むのが良さそう"
   ]
  },
  {
   "cell_type": "markdown",
   "id": "524b19ed",
   "metadata": {},
   "source": [
    ">推論時は、Greedyアルゴリズムの場合、再帰的に最初の単語から最後の単語まで一つづつ予測していきます（コード）。具体的には最初の推論でBOS（文章の始まり）のみを含む文章をターゲットとして、2個目の単語を予測します。そして予測した単語を含めて再度モデルを実行し、３個目の単語を予測します。このときモデルはソースであるドイツ語の文章と１〜２個目の英単語から３個目を予測することになります。これを繰り返し、モデルがEOS（文章の終わり）を出力するまで繰り返します。何番目の単語を予測するかで文章の長さが変わるのでtgt_maskは文章の長さを同じになるように値を設定します。\n",
    "\n",
    "https://qiita.com/simayan/items/ea8bc5df150f7890d0e7"
   ]
  },
  {
   "cell_type": "code",
   "execution_count": 3,
   "id": "a383e796-dd8f-408b-9cd4-d40170bfa328",
   "metadata": {},
   "outputs": [],
   "source": [
    "exp_name = 'exp2'"
   ]
  },
  {
   "cell_type": "code",
   "execution_count": 4,
   "id": "3faac4d0-3c92-4cc5-918f-ec1f4537f711",
   "metadata": {},
   "outputs": [
    {
     "name": "stdout",
     "output_type": "stream",
     "text": [
      "Python 3.10.13\n",
      "2.1.2\n",
      "0.16.2\n",
      "0.3.3\n"
     ]
    },
    {
     "data": {
      "text/plain": [
       "(True, 8)"
      ]
     },
     "execution_count": 4,
     "metadata": {},
     "output_type": "execute_result"
    }
   ],
   "source": [
    "!python -V\n",
    "\n",
    "import torch\n",
    "import torch.nn as nn\n",
    "import torchvision\n",
    "import segmentation_models_pytorch\n",
    "\n",
    "\n",
    "print(f'{torch.__version__}')\n",
    "print(f'{torchvision.__version__}')\n",
    "print(f'{segmentation_models_pytorch.__version__}')\n",
    "\n",
    "torch.cuda.is_available(), torch.cuda.device_count()"
   ]
  },
  {
   "cell_type": "markdown",
   "id": "58264475",
   "metadata": {},
   "source": [
    "***\n",
    "## 本実装\n"
   ]
  },
  {
   "cell_type": "code",
   "execution_count": 5,
   "id": "ee3dc047",
   "metadata": {},
   "outputs": [],
   "source": [
    "# import torchvision.models as models\n",
    "\n",
    "# # vit_b_16モデル呼び出し\n",
    "# model_vit = models.vit_b_16(weights=models.ViT_B_16_Weights.DEFAULT)\n",
    "\n",
    "# # get_model()\n",
    "# model_vit = models.get_model('vit_b_16', weights='DEFAULT')\n",
    "\n",
    "# model_vit.heads = torch.nn.Identity()\n",
    "# torch.save(model_vit.state_dict(), 'vit_b_224_16.pth')"
   ]
  },
  {
   "cell_type": "code",
   "execution_count": 6,
   "id": "4c456281",
   "metadata": {},
   "outputs": [],
   "source": [
    "import torch\n",
    "import torch.nn as nn\n",
    "import torch.nn.functional as F\n",
    "import torchvision.models as models\n",
    "\n",
    "\n",
    "class PositionalEncoding(nn.Module):\n",
    "    def __init__(self, d_model, dropout=0.1, max_len=5000):\n",
    "        super(PositionalEncoding, self).__init__()\n",
    "        self.dropout = nn.Dropout(p=dropout)\n",
    "\n",
    "        pe = torch.zeros(max_len, d_model)\n",
    "        position = torch.arange(0, max_len, dtype=torch.float).unsqueeze(1)\n",
    "        div_term = torch.exp(torch.arange(0, d_model, 2).float() * (-math.log(10000.0) / d_model))\n",
    "        pe[:, 0::2] = torch.sin(position * div_term)\n",
    "        pe[:, 1::2] = torch.cos(position * div_term)\n",
    "        pe = pe.unsqueeze(0).transpose(0, 1)\n",
    "        self.register_buffer('pe', pe)\n",
    "\n",
    "    def forward(self, x):\n",
    "        x = x + self.pe[:x.size(0), :]\n",
    "        return self.dropout(x)\n",
    "\n",
    "class CustomVisionTransformer(models.VisionTransformer):\n",
    "    def __init__(self, *args, **kwargs):\n",
    "        super(CustomVisionTransformer, self).__init__(*args, **kwargs)\n",
    "\n",
    "        self.heads = torch.nn.Identity()\n",
    "    \n",
    "    def forward(self, x: torch.Tensor):\n",
    "        # Reshape and permute the input tensor\n",
    "        x = self._process_input(x)\n",
    "\n",
    "        return x\n",
    "\n",
    "class CustomTransformerDecoderLayer(nn.Module):\n",
    "    def __init__(self, d_model, nhead, dim_feedforward=2048, dropout=0.1):\n",
    "        super(CustomTransformerDecoderLayer, self).__init__()\n",
    "#         print(d_model, nhead)\n",
    "        \n",
    "        self.self_attn = nn.MultiheadAttention(d_model, nhead, dropout=dropout, batch_first=True)\n",
    "        self.multihead_attn = nn.MultiheadAttention(d_model, nhead, dropout=dropout, batch_first=True)\n",
    "        \n",
    "        self.norm1 = nn.LayerNorm(d_model)\n",
    "        self.norm2 = nn.LayerNorm(d_model)\n",
    "        self.dropout = nn.Dropout(dropout)\n",
    "        \n",
    "        self.feed_forward = nn.Sequential(\n",
    "            nn.Linear(d_model, dim_feedforward),\n",
    "            nn.ReLU(),\n",
    "            nn.Dropout(dropout),\n",
    "            nn.Linear(dim_feedforward, d_model)\n",
    "        )\n",
    "\n",
    "    def forward(self, tgt, memory, tgt_mask=None, tgt_pad_mask=None):\n",
    "        \"\"\"\n",
    "        tgt: shape []\n",
    "        \"\"\"\n",
    "        # Self attention with residual connection\n",
    "        attn_output1, _ = self.self_attn(tgt, tgt, tgt, attn_mask=tgt_mask, key_padding_mask=tgt_pad_mask)\n",
    "        tgt = self.norm1(tgt + self.dropout(attn_output1))\n",
    "\n",
    "        # Cross attention with residual connection\n",
    "        attn_output2, attn_weights = self.multihead_attn(tgt, memory, memory)\n",
    "#         attn_output2, attn_weights = self.multihead_attn(tgt, memory, memory, key_padding_mask=tgt_pad_mask)\n",
    "        tgt = self.norm2(tgt + self.dropout(attn_output2))\n",
    "\n",
    "        # Feed forward with residual connection\n",
    "        ff_output = self.feed_forward(tgt)\n",
    "        tgt = tgt + self.dropout(ff_output)\n",
    "\n",
    "        return tgt\n",
    "\n",
    "class CustomTransformerDecoder(nn.Module):\n",
    "    def __init__(self, d_model, nhead, num_decoder_layers, target_vocab_size, pad_id=0):\n",
    "        super(CustomTransformerDecoder, self).__init__()\n",
    "\n",
    "        self.embedding = nn.Embedding(target_vocab_size, d_model)\n",
    "        self.pos_encoder = PositionalEncoding(d_model)\n",
    "        self.decoder_layers = nn.ModuleList([CustomTransformerDecoderLayer(d_model, nhead) for _ in range(num_decoder_layers)])\n",
    "        self.pad_id = pad_id\n",
    "\n",
    "    def get_attn_subsequent_mask(self, sz: int) -> torch.Tensor:\n",
    "        return torch.triu(torch.ones(sz, sz) * float('-inf'), diagonal=1)\n",
    "\n",
    "    def forward(self, tgt, memory):\n",
    "        tgt_pad_mask = (tgt == self.pad_id)\n",
    "        tgt = self.embedding(tgt) # tgt_after_embedding: [batch, target_len, d_model]\n",
    "        tgt = self.pos_encoder(tgt)\n",
    "        \n",
    "        # create masks, then pass to decoder\n",
    "        batch_size, target_len, d_model = tgt.shape\n",
    "        tgt_mask = self.get_attn_subsequent_mask(target_len)\n",
    "\n",
    "        tgt_mask = tgt_mask.to(tgt.device)\n",
    "\n",
    "        for i, layer in enumerate(self.decoder_layers):\n",
    "            tgt = layer(tgt, memory, tgt_mask=tgt_mask, tgt_pad_mask=tgt_pad_mask)\n",
    "\n",
    "        # [batch, target_len?, d_model]\n",
    "        return tgt\n",
    "\n",
    "class CoordsHead(nn.Module):\n",
    "    def __init__(self):\n",
    "        super(CoordsHead, self).__init__()\n",
    "\n",
    "class CoordsViT(nn.Module):\n",
    "    def __init__(self, image_size=224, patch_size=16, d_model=768, nhead=12, num_encoder_layers=12, num_decoder_layers=12, target_vocab_size=11, channels=3, out_channel=2):\n",
    "        super(CoordsViT, self).__init__()\n",
    "\n",
    "        # Encoder\n",
    "        self.encoder = CustomVisionTransformer(\n",
    "            image_size=image_size,\n",
    "            patch_size=patch_size,\n",
    "            num_layers=num_encoder_layers,\n",
    "            num_heads=nhead,\n",
    "            hidden_dim=d_model,\n",
    "            mlp_dim=3072\n",
    "        )\n",
    "        self.encoder.load_state_dict(torch.load('vit_b_224_16.pth'))\n",
    "\n",
    "        # Decoder\n",
    "        self.decoder = CustomTransformerDecoder(d_model, nhead, num_decoder_layers, target_vocab_size)\n",
    "\n",
    "        # Coords Head\n",
    "        self.coords_heads = nn.Linear(d_model, out_channel)\n",
    "\n",
    "    def forward(self, img, tgt):\n",
    "        \"\"\"\n",
    "        tgt: [batch, target_len]\n",
    "        \"\"\"\n",
    "        # Encode image\n",
    "        encoder_output = self.encoder(img) # encoder_output: torch.Size([seq_len, batch, d_model])\n",
    "#         print(f'encoder_output: {encoder_output.shape}')\n",
    "\n",
    "        # Decode to get the target sequence\n",
    "        tgt_out = self.decoder(tgt, encoder_output)  # tgt_out: [batch, target_len?, d_model]\n",
    "\n",
    "        output = self.coords_heads(tgt_out)  # output: [batch, target_len?, 2], yx coords is 2d\n",
    "        return output\n"
   ]
  },
  {
   "cell_type": "code",
   "execution_count": 7,
   "id": "b4e10f26",
   "metadata": {},
   "outputs": [],
   "source": [
    "import os\n",
    "import numpy as np\n",
    "\n",
    "from torch.utils.data import Dataset, DataLoader\n",
    "from torchvision import transforms\n",
    "from PIL import Image\n",
    "from glob import glob\n",
    "\n",
    "image_size = 224\n",
    "\n",
    "class OneHotTensorEncode(object):\n",
    "    def __init__(self, n_classes=10):\n",
    "        self.n_classes = n_classes\n",
    "\n",
    "    def __call__(self, mask, debug=False):\n",
    "        \"\"\"\n",
    "        Convert a 1-channel grayscale PIL image with n_classes unique values \n",
    "        into an n_classes-channel one-hot encoded tensor.\n",
    "        \"\"\"\n",
    "\n",
    "        mask = np.array(mask)\n",
    "        one_hot = torch.zeros(self.n_classes, mask.shape[0], mask.shape[1], dtype=torch.float32)\n",
    "        for i in range(self.n_classes):\n",
    "            one_hot[i, :, :] = torch.tensor(mask == i, dtype=torch.float32)\n",
    "            if debug:\n",
    "                count = np.sum(mask == i)\n",
    "                print(f\"Number of pixels with value {i}: {count}\")\n",
    "            \n",
    "                plt.imshow(one_hot[i, :, :].numpy(), cmap='gray')\n",
    "                plt.title(f\"Class {i} One-hot Encoded Channel\")\n",
    "                plt.colorbar()\n",
    "                plt.show()\n",
    "        return one_hot\n",
    "\n",
    "class RandomTransformsDual:\n",
    "    \"\"\"\n",
    "    画像とマスクの両方にランダム変換を適用するクラス\n",
    "    \"\"\"\n",
    "    def __init__(self, transforms):\n",
    "        self.transforms = transforms\n",
    "\n",
    "    def __call__(self, img, mask):\n",
    "        seed = np.random.randint(2147483647)  # 大きな数でランダムシードを設定\n",
    "        np.random.seed(seed)  # 同じシードを使用して、画像とマスクの両方に同じ変換を確実に適用する\n",
    "\n",
    "        for t in self.transforms:\n",
    "            img = t(img)\n",
    "\n",
    "        np.random.seed(seed)\n",
    "        for t in self.transforms:\n",
    "            mask = t(mask)\n",
    "\n",
    "        return img, mask\n",
    "    \n",
    "def custom_crop(image, trim_margin=180):\n",
    "    return image.crop((trim_margin, trim_margin, image.width - trim_margin, image.height - trim_margin))\n",
    "\n",
    "def channelize(mask_array, n_classes=10):\n",
    "    mask_10d = torch.zeros(n_classes, mask_array.shape[0], mask_array.shape[1], dtype=torch.float32)\n",
    "    for i in range(n_classes): \n",
    "        mask_10d[i, :, :] = torch.tensor(mask == i, dtype=torch.float32)\n",
    "    return mask_10d\n",
    "\n",
    "def get_center_array(mask_10d, coord_filter, relative=False):\n",
    "    coords = []\n",
    "    for mask_i in mask_10d[1:]:\n",
    "        if int(mask_i.sum()) == 0:\n",
    "            coords.append([0, 0])\n",
    "            continue\n",
    "        center_yx = [int((mask_i * coord_filter[:, :, 0]).sum() / mask_i.sum()), int((mask_i * coord_filter[:, :, 1]).sum() / mask_i.sum())]\n",
    "        if relative:\n",
    "            center_yx[0] /= mask_i.shape[0]\n",
    "            center_yx[1] /= mask_i.shape[1]\n",
    "        coords.append(center_yx)\n",
    "    assert len(coords) == len(mask_10d) - 1, 'dim incorrect'\n",
    "    return torch.Tensor(coords)\n",
    "\n",
    "class SegmentationDataset(Dataset):\n",
    "    def __init__(self, image_glob_path, image_size, image_transforms=None, mask_transforms=None, random_transforms=None):\n",
    "        self.image_glob_path = image_glob_path\n",
    "        self.image_transforms = image_transforms\n",
    "        self.mask_transforms = mask_transforms\n",
    "        self.random_transforms = random_transforms\n",
    "        self.image_paths = sorted(glob(image_glob_path))\n",
    "        self.coord_filter = np.array([[(i, j) for j in range(image_size)] for i in range(image_size)])\n",
    "\n",
    "    def __len__(self):\n",
    "        return len(self.image_paths)\n",
    "\n",
    "    def __getitem__(self, index):\n",
    "        image_path = self.image_paths[index]\n",
    "        mask_path = image_path.replace('/flw/', '/mask/')\n",
    "        image = Image.open(image_path).convert(\"RGB\")\n",
    "        mask = Image.open(mask_path).convert(\"L\")\n",
    "\n",
    "        if self.random_transforms:\n",
    "            image, mask = self.random_transforms(image, mask)\n",
    "\n",
    "        if self.image_transforms:\n",
    "            image = self.image_transforms(image)\n",
    "\n",
    "        if self.mask_transforms:\n",
    "            mask = self.mask_transforms(mask)\n",
    "            coords = get_center_array(mask, self.coord_filter)\n",
    "\n",
    "        return image, coords\n",
    "\n",
    "random_transforms = RandomTransformsDual([\n",
    "    transforms.RandomHorizontalFlip(),\n",
    "    transforms.RandomRotation(180)  # ±180度のランダムな回転\n",
    "])\n",
    "\n",
    "image_transforms = transforms.Compose([\n",
    "    transforms.Lambda(custom_crop),\n",
    "    transforms.Resize((image_size, image_size)),\n",
    "    transforms.ToTensor(),\n",
    "    transforms.Normalize(mean=[0.485, 0.456, 0.406], std=[0.229, 0.224, 0.225])\n",
    "])\n",
    "\n",
    "mask_transforms = transforms.Compose([\n",
    "    transforms.Lambda(custom_crop),\n",
    "    transforms.Resize((image_size, image_size)),\n",
    "    OneHotTensorEncode(n_classes=10),\n",
    "])\n",
    "\n",
    "flw_glob_path = '../../../../create_synthe_2023/synthetic_flw/flw/*/*'\n",
    "\n",
    "# image_glob_path, mask_glob_path, image_transforms=None, mask_transforms=None, random_transforms=None):\n",
    "dataset = SegmentationDataset(flw_glob_path, image_size, image_transforms=image_transforms, mask_transforms=mask_transforms)\n",
    "dataset_size = len(dataset)\n",
    "\n",
    "train_ratio = 0.7\n",
    "val_ratio = 0.3\n",
    "\n",
    "train_size = int(train_ratio * dataset_size)\n",
    "val_size = int(val_ratio * dataset_size)\n",
    "# test_size = dataset_size - train_size - val_size\n",
    "\n",
    "train_dataset, val_dataset = torch.utils.data.random_split(dataset, [train_size, val_size], generator=torch.Generator().manual_seed(42))\n",
    "# train_dataset, val_dataset, test_dataset = torch.utils.data.random_split(dataset, [train_size, val_size, test_size])\n",
    "\n",
    "# データローダーの作成\n",
    "batch_size = 16\n",
    "num_workers = 16\n",
    "train_dataloader = DataLoader(train_dataset, batch_size=batch_size, shuffle=True, num_workers=num_workers, pin_memory=True)\n",
    "val_dataloader = DataLoader(val_dataset, batch_size=batch_size, shuffle=False, num_workers=num_workers, pin_memory=True)\n",
    "# test_dataloader = DataLoader(test_dataset, batch_size=batch_size, shuffle=False)\n"
   ]
  },
  {
   "cell_type": "code",
   "execution_count": 8,
   "id": "c794af33",
   "metadata": {},
   "outputs": [
    {
     "name": "stdout",
     "output_type": "stream",
     "text": [
      "target_seq.shape: torch.Size([16, 9])\n",
      "output.shape: torch.Size([16, 9, 2])\n"
     ]
    },
    {
     "name": "stderr",
     "output_type": "stream",
     "text": [
      "/opt/conda/lib/python3.10/site-packages/torch/nn/functional.py:5076: UserWarning: Support for mismatched key_padding_mask and attn_mask is deprecated. Use same type for both instead.\n",
      "  warnings.warn(\n"
     ]
    }
   ],
   "source": [
    "import math\n",
    "import torch\n",
    "import torch.nn as nn\n",
    "\n",
    "from tqdm import tqdm\n",
    "import segmentation_models_pytorch.utils as smp_utils\n",
    "\n",
    "patch_size = 16\n",
    "num_patch_1d = (image_size // patch_size)\n",
    "indexer_1d = np.array([num_patch_1d, 1])\n",
    "\n",
    "d_model = 256\n",
    "nhead = 8\n",
    "num_encoder_layers = 3\n",
    "num_decoder_layers = 3\n",
    "target_vocab_size = num_patch_1d ** 2 # patchの数を語彙数とする\n",
    "# len_out_seq = 9\n",
    "\n",
    "model = CoordsViT(target_vocab_size=target_vocab_size)\n",
    "\n",
    "for i, (images, coords) in enumerate(train_dataloader):\n",
    "    coords_idx_2d = coords // num_patch_1d\n",
    "    coords_idx_1d = coords_idx_2d @ indexer_1d\n",
    "    target_seq = coords_idx_1d.long()\n",
    "    break\n",
    "\n",
    "output = model(images, target_seq)\n",
    "\n",
    "print(f'target_seq.shape: {target_seq.shape}')\n",
    "print(f'output.shape: {output.shape}')"
   ]
  },
  {
   "cell_type": "code",
   "execution_count": 12,
   "id": "cb9f5168-ed38-4dff-9574-10bf0d35b9c6",
   "metadata": {},
   "outputs": [
    {
     "data": {
      "text/plain": [
       "tensor([[ 68., 108.],\n",
       "        [150.,  89.],\n",
       "        [126., 155.],\n",
       "        [ 86.,  80.],\n",
       "        [142., 128.],\n",
       "        [ 84., 134.],\n",
       "        [117.,  76.],\n",
       "        [  0.,   0.],\n",
       "        [  0.,   0.]])"
      ]
     },
     "execution_count": 12,
     "metadata": {},
     "output_type": "execute_result"
    }
   ],
   "source": [
    "coords[0]"
   ]
  },
  {
   "cell_type": "code",
   "execution_count": 13,
   "id": "1b1758ab-a4ed-4022-a360-2efc9b71ba47",
   "metadata": {},
   "outputs": [
    {
     "name": "stderr",
     "output_type": "stream",
     "text": [
      "Clipping input data to the valid range for imshow with RGB data ([0..1] for floats or [0..255] for integers).\n"
     ]
    },
    {
     "data": {
      "image/png": "[encoded data removed]",
      "text/plain": [
       "<Figure size 640x480 with 1 Axes>"
      ]
     },
     "metadata": {},
     "output_type": "display_data"
    },
    {
     "data": {
      "text/plain": [
       "tensor([[  16.2557,   79.1434],\n",
       "        [ -20.3465,   78.5327],\n",
       "        [ -49.8255,  101.9417],\n",
       "        [ -13.0582,   48.4581],\n",
       "        [  38.9500,  -40.0201],\n",
       "        [  14.2747,   14.1121],\n",
       "        [ -43.2832,   24.0137],\n",
       "        [ -43.1178,  -83.4028],\n",
       "        [  19.6372, -113.3477]], grad_fn=<MulBackward0>)"
      ]
     },
     "execution_count": 13,
     "metadata": {},
     "output_type": "execute_result"
    }
   ],
   "source": [
    "import matplotlib.pyplot as plt\n",
    "\n",
    "plt.imshow(torch.permute(images[0], (1, 2, 0)))\n",
    "plt.show()\n",
    "output[0] * 224"
   ]
  },
  {
   "cell_type": "code",
   "execution_count": 10,
   "id": "4e72abad-6068-447a-887f-afd78ecc38ac",
   "metadata": {},
   "outputs": [
    {
     "data": {
      "text/plain": [
       "torch.Size([9, 2])"
      ]
     },
     "execution_count": 10,
     "metadata": {},
     "output_type": "execute_result"
    }
   ],
   "source": [
    "output[0].shape"
   ]
  },
  {
   "cell_type": "code",
   "execution_count": null,
   "id": "0d48e16b",
   "metadata": {},
   "outputs": [
    {
     "name": "stderr",
     "output_type": "stream",
     "text": [
      "Epoch 2/20, Train:  74%|███████▍  | 16273/21875 [25:56<07:13, 12.93it/s, Train Loss=2.89e+3]  IOPub message rate exceeded.\n",
      "The Jupyter server will temporarily stop sending output\n",
      "to the client in order to avoid crashing it.\n",
      "To change this limit, set the config variable\n",
      "`--ServerApp.iopub_msg_rate_limit`.\n",
      "\n",
      "Current values:\n",
      "ServerApp.iopub_msg_rate_limit=1000.0 (msgs/sec)\n",
      "ServerApp.rate_limit_window=3.0 (secs)\n",
      "\n",
      "Epoch 2/20, Train: 100%|██████████| 21875/21875 [35:04<00:00, 10.40it/s, Train Loss=3.31e+3]\n",
      "Epoch 2 / 20, Val: 100%|██████████| 9375/9375 [15:59<00:00,  9.77it/s, Val Loss=2.48e+3]\n",
      "Epoch 3/20, Train:  58%|█████▊    | 12698/21875 [20:20<10:30, 14.55it/s, Train Loss=3.03e+3] IOPub message rate exceeded.\n",
      "The Jupyter server will temporarily stop sending output\n",
      "to the client in order to avoid crashing it.\n",
      "To change this limit, set the config variable\n",
      "`--ServerApp.iopub_msg_rate_limit`.\n",
      "\n",
      "Current values:\n",
      "ServerApp.iopub_msg_rate_limit=1000.0 (msgs/sec)\n",
      "ServerApp.rate_limit_window=3.0 (secs)\n",
      "\n",
      "Epoch 3/20, Train: 100%|██████████| 21875/21875 [35:15<00:00, 10.34it/s, Train Loss=3.29e+3]\n",
      "Epoch 3 / 20, Val: 100%|██████████| 9375/9375 [24:17<00:00,  6.43it/s, Val Loss=2.59e+3]\n",
      "Epoch 4/20, Train:   4%|▍         | 828/21875 [03:44<1:19:56,  4.39it/s, Train Loss=3.67e+3]"
     ]
    }
   ],
   "source": [
    "# device = torch.device(\"cpu\")\n",
    "device = torch.device(\"cuda:2\" if torch.cuda.is_available() else \"cpu\")\n",
    "model.to(device)\n",
    "\n",
    "criterion = nn.MSELoss().to(device)\n",
    "optimizer = torch.optim.Adam(model.parameters(), lr=0.0005)\n",
    "\n",
    "num_epochs = 20\n",
    "for epoch in range(num_epochs):\n",
    "    model.train()\n",
    "    save_path = f'./models/{exp_name}_epoch{epoch + 1}.pth'\n",
    "    if os.path.exists(save_path):\n",
    "        model.load_state_dict(torch.load(save_path))\n",
    "        continue\n",
    "    with tqdm(total=len(train_dataloader), desc=f\"Epoch {epoch + 1}/{num_epochs}, Train\") as pbar_train:\n",
    "        for i, (images, coords) in enumerate(train_dataloader):\n",
    "            images = images.to(device)\n",
    "            coords_idx_2d = coords // num_patch_1d\n",
    "            coords_idx_1d = coords_idx_2d @ indexer_1d\n",
    "            target_seq = coords_idx_1d.long().to(device)\n",
    "\n",
    "            output = model(images, target_seq)\n",
    "            loss = criterion(output, coords.to(device))\n",
    "\n",
    "            optimizer.zero_grad()\n",
    "            loss.backward()\n",
    "            optimizer.step()\n",
    "\n",
    "            pbar_train.set_postfix({\"Train Loss\": loss.item()})\n",
    "            pbar_train.update(1)\n",
    "\n",
    "    torch.save(model.state_dict(), save_path)\n",
    "\n",
    "    model.eval()\n",
    "    with tqdm(total=len(val_dataloader), desc=f\"Epoch {epoch + 1} / {num_epochs}, Val\") as pbar_val:\n",
    "        for i, (images, coords) in enumerate(val_dataloader):\n",
    "            images = images.to(device)\n",
    "            coords_idx_2d = coords // num_patch_1d\n",
    "            coords_idx_1d = coords_idx_2d @ indexer_1d\n",
    "            target_seq = coords_idx_1d.long().to(device)\n",
    "\n",
    "            output = model(images, target_seq)\n",
    "            loss = criterion(output, coords.to(device))\n",
    "\n",
    "            pbar_val.set_postfix({\"Val Loss\": loss.item()})\n",
    "            pbar_val.update(1)\n"
   ]
  },
  {
   "cell_type": "code",
   "execution_count": null,
   "id": "8a9e920f",
   "metadata": {},
   "outputs": [],
   "source": [
    "for channel in cross_attention_maps.to('cpu')[0]:\n",
    "    print(channel)\n",
    "    break"
   ]
  },
  {
   "cell_type": "code",
   "execution_count": null,
   "id": "020395a3",
   "metadata": {},
   "outputs": [],
   "source": [
    "for channel in mask_proportions.to('cpu')[0]:\n",
    "    print(channel)\n",
    "    break"
   ]
  },
  {
   "cell_type": "code",
   "execution_count": null,
   "id": "e91e651d",
   "metadata": {},
   "outputs": [],
   "source": []
  },
  {
   "cell_type": "code",
   "execution_count": null,
   "id": "1fd80b0a",
   "metadata": {},
   "outputs": [],
   "source": [
    "for i in "
   ]
  },
  {
   "cell_type": "code",
   "execution_count": null,
   "id": "1d9cf783",
   "metadata": {},
   "outputs": [],
   "source": [
    "predicted_indices = torch.argmax(pred_probs, dim=-1)\n",
    "predicted_indices"
   ]
  },
  {
   "cell_type": "code",
   "execution_count": null,
   "id": "ced4f060",
   "metadata": {},
   "outputs": [],
   "source": [
    "loss_mask"
   ]
  },
  {
   "cell_type": "code",
   "execution_count": null,
   "id": "d60fec84",
   "metadata": {},
   "outputs": [],
   "source": [
    "loss_seq"
   ]
  },
  {
   "cell_type": "code",
   "execution_count": null,
   "id": "de25b065",
   "metadata": {
    "scrolled": true
   },
   "outputs": [],
   "source": [
    "predicted_indices = torch.argmax(pred_probs, dim=-1)\n",
    "predicted_indices"
   ]
  },
  {
   "cell_type": "code",
   "execution_count": null,
   "id": "7909af27",
   "metadata": {},
   "outputs": [],
   "source": [
    "loss_seq"
   ]
  },
  {
   "cell_type": "code",
   "execution_count": null,
   "id": "cdb1122a",
   "metadata": {},
   "outputs": [],
   "source": [
    "loss_mask"
   ]
  },
  {
   "cell_type": "code",
   "execution_count": 19,
   "id": "124809f3",
   "metadata": {},
   "outputs": [
    {
     "data": {
      "text/plain": [
       "tensor(0.7469, device='cuda:2')"
      ]
     },
     "execution_count": 19,
     "metadata": {},
     "output_type": "execute_result"
    }
   ],
   "source": [
    "loss_seq"
   ]
  },
  {
   "cell_type": "code",
   "execution_count": 13,
   "id": "934ffb21",
   "metadata": {
    "scrolled": true
   },
   "outputs": [
    {
     "name": "stdout",
     "output_type": "stream",
     "text": [
      "torch.Size([12, 11])\n",
      "tensor(0.7357)\n"
     ]
    }
   ],
   "source": [
    "import torch.nn.functional as F\n",
    "print(predicted_indices.shape)\n",
    "pred_one_hot = F.one_hot(predicted_indices).float()\n",
    "gt_one_hot = F.one_hot(target_seq).float()\n",
    "loss = F.binary_cross_entropy_with_logits(pred_one_hot, gt_one_hot)\n",
    "\n",
    "print(loss)"
   ]
  },
  {
   "cell_type": "code",
   "execution_count": 9,
   "id": "a0bf5929",
   "metadata": {},
   "outputs": [
    {
     "data": {
      "text/plain": [
       "tensor([[ 0,  1,  2,  3,  4,  5, 10, 10, 10, 10, 10],\n",
       "        [ 0,  1,  2,  3,  4,  5,  6,  7, 10, 10, 10],\n",
       "        [ 0,  1,  2,  3,  4,  5, 10, 10, 10, 10, 10],\n",
       "        [ 0,  1,  2,  3,  4,  5,  6,  7,  8, 10, 10],\n",
       "        [ 0,  1,  2,  3,  4,  5,  6,  7,  8, 10, 10],\n",
       "        [ 0,  1,  2,  3,  4,  5, 10, 10, 10, 10, 10],\n",
       "        [ 0,  1,  2,  3,  4,  5,  6,  7,  8, 10, 10],\n",
       "        [ 0,  1,  2,  3,  4,  5,  6,  7,  8, 10, 10],\n",
       "        [ 0,  1,  2,  3,  4,  5,  6, 10, 10, 10, 10],\n",
       "        [ 0,  1,  2,  3,  4,  5,  6, 10, 10, 10, 10],\n",
       "        [ 0,  1,  2,  3,  4,  5, 10, 10, 10, 10, 10],\n",
       "        [ 0,  1,  2,  3,  4,  5,  6,  7, 10, 10, 10]])"
      ]
     },
     "execution_count": 9,
     "metadata": {},
     "output_type": "execute_result"
    }
   ],
   "source": [
    "target_seq"
   ]
  },
  {
   "cell_type": "code",
   "execution_count": null,
   "id": "aca29df2",
   "metadata": {
    "scrolled": true
   },
   "outputs": [],
   "source": [
    "import torch\n",
    "import matplotlib.pyplot as plt\n",
    "\n",
    "def recreate_image_from_attention(cross_attention_map, img_size, patch_size):\n",
    "    \"\"\"\n",
    "    cross_attention_map: shape [11, 1024] (or any [channel_out, flattened_img_size])\n",
    "    img_size: Original image size (e.g., 224 for a 224x224 image)\n",
    "    patch_size: The size of each patch (e.g., 16 for 16x16 patches)\n",
    "    \"\"\"\n",
    "    channel_out, flattened_img_size = cross_attention_map.shape\n",
    "    patches_per_dim = img_size // patch_size\n",
    "    \n",
    "    # Reshape to [channel_out, patches_per_dim, patches_per_dim]\n",
    "    reshaped_attention_map = cross_attention_map.view(channel_out, patches_per_dim, patches_per_dim)\n",
    "    \n",
    "    # Initialize tensor to store the recreated image\n",
    "    recreated_images = torch.zeros((channel_out, img_size, img_size))\n",
    "    \n",
    "    # Fill in the recreated image tensor\n",
    "    for i in range(patches_per_dim):\n",
    "        for j in range(patches_per_dim):\n",
    "            recreated_images[:, i*patch_size:(i+1)*patch_size, j*patch_size:(j+1)*patch_size] = reshaped_attention_map[:, i, j].unsqueeze(1).unsqueeze(2)\n",
    "            \n",
    "    return recreated_images\n",
    "\n",
    "\n",
    "# Call the function\n",
    "recreated_images = recreate_image_from_attention(cross_attention_maps[0][0], image_size, patch_size)\n",
    "\n",
    "# Visualize\n",
    "for i in range(recreated_images.shape[0]):\n",
    "    plt.figure()\n",
    "    plt.imshow(recreated_images[i].detach().numpy(), cmap=\"gray\")\n",
    "    plt.title(f\"Channel {i}\")\n",
    "    plt.show()\n"
   ]
  },
  {
   "cell_type": "code",
   "execution_count": null,
   "id": "7a68e7dd",
   "metadata": {},
   "outputs": [],
   "source": [
    "recreated_images = recreate_image_from_attention(mask_proportions[0], image_size, patch_size)\n",
    "\n",
    "# Visualize\n",
    "for i in range(recreated_images.shape[0]):\n",
    "    plt.figure()\n",
    "    plt.imshow(recreated_images[i].detach().numpy(), cmap=\"gray\")\n",
    "    plt.title(f\"Channel {i}\")\n",
    "    plt.show()\n"
   ]
  },
  {
   "cell_type": "markdown",
   "id": "97230f80",
   "metadata": {},
   "source": [
    "## Idea \n",
    "\n"
   ]
  },
  {
   "cell_type": "markdown",
   "id": "47da6744",
   "metadata": {},
   "source": [
    "* クラスラベルの順列を出力系列とするのは、あまりに難しそう。\n",
    "* docoderに入力するのは、各パッチの特徴を並べたもの"
   ]
  },
  {
   "cell_type": "markdown",
   "id": "48146461",
   "metadata": {},
   "source": [
    "target_seqの系列長と最終的に出力してほしいsequence_lengthは一般には同じである必要はありません。Transformerモデルの訓練時においては、通常、ターゲット系列（target_seq）は入力として使われるだけでなく、訓練のラベルとしても使用されます。その場合、target_seqの系列長は出力と一致するように設計されることが多いです。\n",
    "\n",
    "しかし、推論（予測）時には、通常、開始トークンだけをtarget_seqとして使用し、モデルがその後のトークンを一つずつ生成するようにします。この場合、target_seqの初期の長さは1であり、出力のsequence_lengthは1から始まって任意の長さになり得ます（停止条件または最大長に達するまで）。\n",
    "\n",
    "簡単に言うと、訓練と推論でtarget_seqの役割が少し異なるため、その長さもそれに応じて変わります。"
   ]
  },
  {
   "cell_type": "code",
   "execution_count": 52,
   "id": "32e7d030",
   "metadata": {},
   "outputs": [
    {
     "data": {
      "text/plain": [
       "True"
      ]
     },
     "execution_count": 52,
     "metadata": {},
     "output_type": "execute_result"
    }
   ],
   "source": [
    "predicted_indices = torch.argmax(output, dim=-1)\n",
    "predicted_indices.shape == target_seq.shape"
   ]
  },
  {
   "cell_type": "code",
   "execution_count": null,
   "id": "34417d66",
   "metadata": {},
   "outputs": [],
   "source": []
  },
  {
   "cell_type": "code",
   "execution_count": null,
   "id": "be11564d",
   "metadata": {},
   "outputs": [],
   "source": []
  }
 ],
 "metadata": {
  "kernelspec": {
   "display_name": "Python 3 (ipykernel)",
   "language": "python",
   "name": "python3"
  },
  "language_info": {
   "codemirror_mode": {
    "name": "ipython",
    "version": 3
   },
   "file_extension": ".py",
   "mimetype": "text/x-python",
   "name": "python",
   "nbconvert_exporter": "python",
   "pygments_lexer": "ipython3",
   "version": "3.10.13"
  }
 },
 "nbformat": 4,
 "nbformat_minor": 5
}
