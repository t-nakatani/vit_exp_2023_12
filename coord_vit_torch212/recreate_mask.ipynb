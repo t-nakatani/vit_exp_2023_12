{
 "cells": [
  {
   "cell_type": "markdown",
   "id": "3dd5de2d-122d-47e8-890d-ab7ccd4b648f",
   "metadata": {},
   "source": [
    "## 目的\n",
    "\n",
    "maskをindexごとに読み出すのが遅いので一枚ごとに"
   ]
  },
  {
   "cell_type": "code",
   "execution_count": null,
   "id": "e49f7639-e7e3-4efe-979e-2baa457d3cb0",
   "metadata": {},
   "outputs": [],
   "source": []
  }
 ],
 "metadata": {
  "kernelspec": {
   "display_name": "Python 3 (ipykernel)",
   "language": "python",
   "name": "python3"
  },
  "language_info": {
   "codemirror_mode": {
    "name": "ipython",
    "version": 3
   },
   "file_extension": ".py",
   "mimetype": "text/x-python",
   "name": "python",
   "nbconvert_exporter": "python",
   "pygments_lexer": "ipython3",
   "version": "3.10.13"
  }
 },
 "nbformat": 4,
 "nbformat_minor": 5
}
