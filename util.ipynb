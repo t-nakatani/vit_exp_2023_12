{
 "cells": [
  {
   "cell_type": "code",
   "execution_count": 3,
   "id": "fc853d6d",
   "metadata": {},
   "outputs": [],
   "source": [
    "!cp ../exp15.ipynb ./"
   ]
  },
  {
   "cell_type": "code",
   "execution_count": 2,
   "id": "46fd0635",
   "metadata": {},
   "outputs": [],
   "source": [
    "!mv ../ViT_1010_v5-Copy1.ipynb ./"
   ]
  },
  {
   "cell_type": "code",
   "execution_count": null,
   "id": "009eefb1",
   "metadata": {},
   "outputs": [],
   "source": []
  }
 ],
 "metadata": {
  "kernelspec": {
   "display_name": "Python 3 (ipykernel)",
   "language": "python",
   "name": "python3"
  },
  "language_info": {
   "codemirror_mode": {
    "name": "ipython",
    "version": 3
   },
   "file_extension": ".py",
   "mimetype": "text/x-python",
   "name": "python",
   "nbconvert_exporter": "python",
   "pygments_lexer": "ipython3",
   "version": "3.7.10"
  }
 },
 "nbformat": 4,
 "nbformat_minor": 5
}
