{
 "cells": [
  {
   "cell_type": "markdown",
   "id": "ec562ebe-3834-4bc4-9003-dfccfc739b3c",
   "metadata": {},
   "source": [
    "# 概観\n",
    "\n",
    "* vit encoderの実装ミスがあるので、V2以降のもののみが正しく実験できている\n",
    "    * 2023年最後の植物班ミーティングで報告済み"
   ]
  },
  {
   "cell_type": "markdown",
   "id": "20aff03d-0b96-4452-88fe-9e1f3d8c8643",
   "metadata": {},
   "source": []
  },
  {
   "cell_type": "markdown",
   "id": "e0884385-523e-423b-8990-2d876e9a1ed8",
   "metadata": {},
   "source": [
    "# coood V2\n",
    "* encoderのコードミスを修正\n",
    "* 相対座標でなく、絶対座標で取組み中"
   ]
  },
  {
   "cell_type": "markdown",
   "id": "745bbcc6-cece-4c55-8aed-15152cf89a8c",
   "metadata": {},
   "source": [
    "## 実験メモ\n",
    "* exp1: 少数データで高速に学習\n",
    "* exp2: 学習率を5分の1に\n",
    "* exp3: exp2をフルスクラッチに\n",
    "    * なんか当たり引いた感じする、フルスクラッチでしょ\n",
    "* exp4: exp3よりも低い学習率\n",
    "* exp5: exp4をdeepに\n",
    "* exp6: exp5が学習しないので、画像サイズを増やしてみる\n",
    "    * 画像サイズを増やすとlossが落ちた\n",
    "* exp7: exp3のfull data version\n",
    "* exp8: exp6の学習率下げる version\n"
   ]
  },
  {
   "cell_type": "markdown",
   "id": "ba55ca53-56d6-4966-803e-44ee6c1b16c9",
   "metadata": {
    "jp-MarkdownHeadingCollapsed": true
   },
   "source": [
    "#### 12/26\n",
    "* augumentationをするために、逐次マスクからcoordsに変換した方がいい\n",
    "* 角度は、0と2piでズレがほとんどないのにlossが大きくなってしまうので、単位円上の座標が良さそう\n",
    "* embeddingが無理？ embeddingは有限通りの入力をd_model次元で表現するものだから、従うためには有限通りの座標に落とし込む必要がある。となるとやはり角度が有利か。\n",
    "* 座標でembeddingするには、どのパッチの上に乗っているかをidxで表して、それを埋め込むのが良さそう"
   ]
  },
  {
   "cell_type": "markdown",
   "id": "1515207f-64b3-41a8-9b58-8fb181078379",
   "metadata": {},
   "source": [
    "#### 1/7 \n",
    "* 角度と、相対座標は難しそう\n",
    "    * というのも、花中心からの角度を計算させるのに花中心を与えていないのは無理ゲーすぎると思ったから。\n",
    "* positional Encodingのmax_len修正すべきかも\n",
    "* decoderのpositinal encodeいらん可能性ある\n",
    "* validationの時は、tgt作らない方がいい？\n",
    "    * でも、trainと絶対乖離するよね"
   ]
  },
  {
   "cell_type": "markdown",
   "id": "85e09d0e-eac0-40e8-835d-6b0569a308f6",
   "metadata": {},
   "source": []
  },
  {
   "cell_type": "markdown",
   "id": "eca77723-3b74-4b97-b2de-46f227766a70",
   "metadata": {},
   "source": []
  },
  {
   "cell_type": "markdown",
   "id": "a87ec1df-d92b-4a67-8f82-6c73250538f6",
   "metadata": {},
   "source": []
  },
  {
   "cell_type": "markdown",
   "id": "34c60a8e-827e-4934-a7ef-158a19fb6d96",
   "metadata": {},
   "source": [
    "# 今後の予定\n",
    "\n",
    "* 合成データ実験の続き(3 * 2 + 1 = 7)\n",
    "* 領域会議用のポスター(3 * 2 + 1 = 7)\n",
    "* 評価指標の作成(1 * 2 + 1 = 3)\n",
    "* 実データでの正解データ作成(1 * 2 + 1 = 3)\n",
    "* 実データでのfine-tuning(10 * 2 + 1 = 21)\n",
    "* 修士論文発表スライド & 練習(10 * 2 + 1 = 21)\n",
    "* 修士論文書き(10 * 2 + 1 = 21)\n",
    "* 学会原稿書き(4 * 2 + 1= 9)"
   ]
  },
  {
   "cell_type": "code",
   "execution_count": 5,
   "id": "ff72690a-6c05-46b2-a690-4b14927665df",
   "metadata": {},
   "outputs": [
    {
     "data": {
      "text/plain": [
       "92"
      ]
     },
     "execution_count": 5,
     "metadata": {},
     "output_type": "execute_result"
    }
   ],
   "source": [
    "7 + 7 + 3 + 3 + 21 + 21 + 21 + 9"
   ]
  },
  {
   "cell_type": "markdown",
   "id": "b65abf2d-54bc-4b9e-bb46-e7c5c804f7af",
   "metadata": {},
   "source": []
  },
  {
   "cell_type": "markdown",
   "id": "5e33e6d0-bf25-4a75-922b-ce51cfc349be",
   "metadata": {},
   "source": []
  },
  {
   "cell_type": "markdown",
   "id": "b9fbb07d-6c25-48f4-a712-3791abc82eca",
   "metadata": {},
   "source": []
  },
  {
   "cell_type": "markdown",
   "id": "1ac3b869-b94d-4fba-98bf-a4d6587e2797",
   "metadata": {},
   "source": []
  },
  {
   "cell_type": "markdown",
   "id": "7334d2db-3cb0-4d9d-ae03-2e2bba7909fd",
   "metadata": {},
   "source": []
  },
  {
   "cell_type": "markdown",
   "id": "11431b51-9852-4bbf-8c6e-dab4b61ca4e3",
   "metadata": {},
   "source": []
  }
 ],
 "metadata": {
  "kernelspec": {
   "display_name": "Python 3 (ipykernel)",
   "language": "python",
   "name": "python3"
  },
  "language_info": {
   "codemirror_mode": {
    "name": "ipython",
    "version": 3
   },
   "file_extension": ".py",
   "mimetype": "text/x-python",
   "name": "python",
   "nbconvert_exporter": "python",
   "pygments_lexer": "ipython3",
   "version": "3.10.13"
  }
 },
 "nbformat": 4,
 "nbformat_minor": 5
}
