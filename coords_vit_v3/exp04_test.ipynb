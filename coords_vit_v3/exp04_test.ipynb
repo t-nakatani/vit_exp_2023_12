{
 "cells": [
  {
   "cell_type": "markdown",
   "id": "577f55b0",
   "metadata": {},
   "source": [
    "## 変更点\n"
   ]
  },
  {
   "cell_type": "markdown",
   "id": "658fd60c",
   "metadata": {},
   "source": [
    "## 実験メ\n",
    "* 明らかにうまくいっtn明らかにうまくいっtん"
   ]
  },
  {
   "cell_type": "markdown",
   "id": "524b19ed",
   "metadata": {},
   "source": [
    ">推論時は、Greedyアルゴリズムの場合、再帰的に最初の単語から最後の単語まで一つづつ予測していきます（コード）。具体的には最初の推論でBOS（文章の始まり）のみを含む文章をターゲットとして、2個目の単語を予測します。そして予測した単語を含めて再度モデルを実行し、３個目の単語を予測します。このときモデルはソースであるドイツ語の文章と１〜２個目の英単語から３個目を予測することになります。これを繰り返し、モデルがEOS（文章の終わり）を出力するまで繰り返します。何番目の単語を予測するかで文章の長さが変わるのでtgt_maskは文章の長さを同じになるように値を設定します。\n",
    "\n",
    "https://qiita.com/simayan/items/ea8bc5df150f7890d0e7"
   ]
  },
  {
   "cell_type": "code",
   "execution_count": 1,
   "id": "a383e796-dd8f-408b-9cd4-d40170bfa328",
   "metadata": {},
   "outputs": [],
   "source": [
    "exp_name = 'coords_v3_exp4'"
   ]
  },
  {
   "cell_type": "code",
   "execution_count": 2,
   "id": "3faac4d0-3c92-4cc5-918f-ec1f4537f711",
   "metadata": {},
   "outputs": [
    {
     "name": "stdout",
     "output_type": "stream",
     "text": [
      "Python 3.10.13\n",
      "2.1.2\n",
      "0.16.2\n",
      "0.3.3\n"
     ]
    },
    {
     "data": {
      "text/plain": [
       "(True, 8)"
      ]
     },
     "execution_count": 2,
     "metadata": {},
     "output_type": "execute_result"
    }
   ],
   "source": [
    "!python -V\n",
    "\n",
    "import torch\n",
    "import torch.nn as nn\n",
    "import torchvision\n",
    "import segmentation_models_pytorch\n",
    "\n",
    "\n",
    "print(f'{torch.__version__}')\n",
    "print(f'{torchvision.__version__}')\n",
    "print(f'{segmentation_models_pytorch.__version__}')\n",
    "\n",
    "torch.cuda.is_available(), torch.cuda.device_count()"
   ]
  },
  {
   "cell_type": "markdown",
   "id": "58264475",
   "metadata": {},
   "source": [
    "***\n",
    "## 本実装\n"
   ]
  },
  {
   "cell_type": "code",
   "execution_count": 3,
   "id": "ee3dc047",
   "metadata": {},
   "outputs": [
    {
     "name": "stderr",
     "output_type": "stream",
     "text": [
      "Downloading: \"https://download.pytorch.org/models/vit_b_16-c867db91.pth\" to /root/.cache/torch/hub/checkpoints/vit_b_16-c867db91.pth\n",
      "100%|██████████| 330M/330M [00:03<00:00, 111MB/s] \n"
     ]
    }
   ],
   "source": [
    "import torchvision.models as models\n",
    "\n",
    "# vit_b_16モデル呼び出し\n",
    "model_vit = models.vit_b_16(weights=models.ViT_B_16_Weights.DEFAULT)\n",
    "\n",
    "# get_model()\n",
    "model_vit = models.get_model('vit_b_16', weights='DEFAULT')\n",
    "\n",
    "model_vit.heads = torch.nn.Identity()\n",
    "torch.save(model_vit.state_dict(), 'vit_b_224_16.pth')"
   ]
  },
  {
   "cell_type": "code",
   "execution_count": 4,
   "id": "4c456281",
   "metadata": {},
   "outputs": [],
   "source": [
    "import torch\n",
    "import torch.nn as nn\n",
    "import torch.nn.functional as F\n",
    "import torchvision.models as models\n",
    "\n",
    "\n",
    "class PositionalEncoding(nn.Module):\n",
    "    def __init__(self, d_model, dropout=0.1, max_len=5000):\n",
    "        super(PositionalEncoding, self).__init__()\n",
    "        self.dropout = nn.Dropout(p=dropout)\n",
    "\n",
    "        pe = torch.zeros(max_len, d_model)\n",
    "        position = torch.arange(0, max_len, dtype=torch.float).unsqueeze(1)\n",
    "        div_term = torch.exp(torch.arange(0, d_model, 2).float() * (-math.log(10000.0) / d_model))\n",
    "        pe[:, 0::2] = torch.sin(position * div_term)\n",
    "        pe[:, 1::2] = torch.cos(position * div_term)\n",
    "        pe = pe.unsqueeze(0).transpose(0, 1)\n",
    "        self.register_buffer('pe', pe)\n",
    "\n",
    "    def forward(self, x):\n",
    "        x = x + self.pe[:x.size(0), :]\n",
    "        return self.dropout(x)\n",
    "\n",
    "class CustomVisionTransformer(models.VisionTransformer):\n",
    "    def __init__(self, *args, **kwargs):\n",
    "        super(CustomVisionTransformer, self).__init__(*args, **kwargs)\n",
    "\n",
    "        self.heads = torch.nn.Identity()\n",
    "    \n",
    "    def forward(self, x: torch.Tensor):\n",
    "        # Reshape and permute the input tensor\n",
    "        x = self._process_input(x)\n",
    "        # print(f'_process_input: {x.shape=}')\n",
    "        n = x.shape[0]\n",
    "\n",
    "        # Expand the class token to the full batch\n",
    "        batch_class_token = self.class_token.expand(n, -1, -1)\n",
    "        x = torch.cat([batch_class_token, x], dim=1)\n",
    "\n",
    "        x = self.encoder(x)\n",
    "\n",
    "        # 次の部分は一旦コメントあるとする、NLPにおけるtransformerと整合性があると思っているが、要確認\n",
    "        # Classifier \"token\" as used by standard language architectures\n",
    "        # x = x[:, 0]\n",
    "        # print(f'return: {x.shape=}')\n",
    "        return x\n",
    "\n",
    "class CustomTransformerDecoderLayer(nn.Module):\n",
    "    def __init__(self, d_model, nhead, dim_feedforward=2048, dropout=0.1):\n",
    "        super(CustomTransformerDecoderLayer, self).__init__()\n",
    "#         print(d_model, nhead)\n",
    "        \n",
    "        self.self_attn = nn.MultiheadAttention(d_model, nhead, dropout=dropout, batch_first=True)\n",
    "        self.multihead_attn = nn.MultiheadAttention(d_model, nhead, dropout=dropout, batch_first=True)\n",
    "        \n",
    "        self.norm1 = nn.LayerNorm(d_model)\n",
    "        self.norm2 = nn.LayerNorm(d_model)\n",
    "        self.dropout = nn.Dropout(dropout)\n",
    "        \n",
    "        self.feed_forward = nn.Sequential(\n",
    "            nn.Linear(d_model, dim_feedforward),\n",
    "            nn.ReLU(),\n",
    "            nn.Dropout(dropout),\n",
    "            nn.Linear(dim_feedforward, d_model)\n",
    "        )\n",
    "\n",
    "    def forward(self, tgt, memory, tgt_mask=None, tgt_pad_mask=None):\n",
    "        \"\"\"\n",
    "        tgt: shape []\n",
    "        \"\"\"\n",
    "        # Self attention with residual connection\n",
    "        attn_output1, _ = self.self_attn(tgt, tgt, tgt, attn_mask=tgt_mask, key_padding_mask=tgt_pad_mask)\n",
    "        tgt = self.norm1(tgt + self.dropout(attn_output1))\n",
    "\n",
    "        # Cross attention with residual connection\n",
    "        attn_output2, attn_weights = self.multihead_attn(tgt, memory, memory)\n",
    "#         attn_output2, attn_weights = self.multihead_attn(tgt, memory, memory, key_padding_mask=tgt_pad_mask)\n",
    "        tgt = self.norm2(tgt + self.dropout(attn_output2))\n",
    "\n",
    "        # Feed forward with residual connection\n",
    "        ff_output = self.feed_forward(tgt)\n",
    "        tgt = tgt + self.dropout(ff_output)\n",
    "\n",
    "        return tgt\n",
    "\n",
    "class CustomTransformerDecoder(nn.Module):\n",
    "    def __init__(self, d_model, nhead, num_decoder_layers, target_vocab_size, pad_id=0):\n",
    "        super(CustomTransformerDecoder, self).__init__()\n",
    "\n",
    "        self.embedding = nn.Embedding(target_vocab_size, d_model)\n",
    "        self.pos_encoder = PositionalEncoding(d_model)\n",
    "        self.decoder_layers = nn.ModuleList([CustomTransformerDecoderLayer(d_model, nhead) for _ in range(num_decoder_layers)])\n",
    "        self.pad_id = pad_id\n",
    "\n",
    "    def get_attn_subsequent_mask(self, sz: int) -> torch.Tensor:\n",
    "        \"\"\"\n",
    "        次に対応するため、boolに変更\n",
    "        UserWarning: Support for mismatched key_padding_mask and attn_mask is deprecated. Use same type for both instead.\n",
    "        \"\"\"\n",
    "        # return torch.triu(torch.ones(sz, sz) * float('-inf'), diagonal=1)\n",
    "        return torch.triu(torch.ones((sz, sz), dtype=bool), diagonal=1)  # \n",
    "\n",
    "    def forward(self, tgt, memory):\n",
    "        tgt_pad_mask = (tgt == self.pad_id)\n",
    "        tgt = self.embedding(tgt) # tgt_after_embedding: [batch, target_len, d_model]\n",
    "        tgt = self.pos_encoder(tgt)\n",
    "        \n",
    "        # create masks, then pass to decoder\n",
    "        batch_size, target_len, d_model = tgt.shape\n",
    "        tgt_mask = self.get_attn_subsequent_mask(target_len)\n",
    "\n",
    "        tgt_mask = tgt_mask.to(tgt.device)\n",
    "\n",
    "        for i, layer in enumerate(self.decoder_layers):\n",
    "            tgt = layer(tgt, memory, tgt_mask=tgt_mask, tgt_pad_mask=tgt_pad_mask)\n",
    "\n",
    "        # [batch, target_len?, d_model]\n",
    "        return tgt\n",
    "\n",
    "class CoordsHead(nn.Module):\n",
    "    def __init__(self):\n",
    "        super(CoordsHead, self).__init__()\n",
    "\n",
    "class CoordsViT(nn.Module):\n",
    "    def __init__(self, image_size=224, patch_size=16, d_model=768, nhead=12, num_encoder_layers=12, num_decoder_layers=12, target_vocab_size=11, channels=3, out_channel=2):\n",
    "        super(CoordsViT, self).__init__()\n",
    "\n",
    "        # Encoder\n",
    "        self.encoder = CustomVisionTransformer(\n",
    "            image_size=image_size,\n",
    "            patch_size=patch_size,\n",
    "            num_layers=num_encoder_layers,\n",
    "            num_heads=nhead,\n",
    "            hidden_dim=d_model,\n",
    "            mlp_dim=3072\n",
    "        )\n",
    "        self.encoder.load_state_dict(torch.load('vit_b_224_16.pth'))\n",
    "\n",
    "        # Decoder\n",
    "        self.decoder = CustomTransformerDecoder(d_model, nhead, num_decoder_layers, target_vocab_size)\n",
    "\n",
    "        # Coords Head\n",
    "        self.coords_heads = nn.Linear(d_model, out_channel)\n",
    "\n",
    "    def forward(self, img, tgt):\n",
    "        \"\"\"\n",
    "        tgt: [batch, target_len]\n",
    "        \"\"\"\n",
    "        # Encode image\n",
    "        encoder_output = self.encoder(img) # encoder_output: torch.Size([seq_len, batch, d_model])\n",
    "#         print(f'encoder_output: {encoder_output.shape}')\n",
    "\n",
    "        # Decode to get the target sequence\n",
    "        tgt_out = self.decoder(tgt, encoder_output)  # tgt_out: [batch, target_len?, d_model]\n",
    "\n",
    "        output = self.coords_heads(tgt_out)  # output: [batch, target_len?, 2], yx coords is 2d\n",
    "        return output\n"
   ]
  },
  {
   "cell_type": "code",
   "execution_count": 5,
   "id": "b4e10f26",
   "metadata": {},
   "outputs": [],
   "source": [
    "import os\n",
    "import numpy as np\n",
    "\n",
    "from torch.utils.data import Dataset, DataLoader\n",
    "from torchvision import transforms\n",
    "from PIL import Image\n",
    "from glob import glob\n",
    "\n",
    "image_size = 224\n",
    "\n",
    "class OneHotTensorEncode(object):\n",
    "    def __init__(self, n_classes=10):\n",
    "        self.n_classes = n_classes\n",
    "\n",
    "    def __call__(self, mask, debug=False):\n",
    "        \"\"\"\n",
    "        Convert a 1-channel grayscale PIL image with n_classes unique values \n",
    "        into an n_classes-channel one-hot encoded tensor.\n",
    "        \"\"\"\n",
    "\n",
    "        mask = np.array(mask)\n",
    "        one_hot = torch.zeros(self.n_classes, mask.shape[0], mask.shape[1], dtype=torch.float32)\n",
    "        for i in range(self.n_classes):\n",
    "            one_hot[i, :, :] = torch.tensor(mask == i, dtype=torch.float32)\n",
    "            if debug:\n",
    "                count = np.sum(mask == i)\n",
    "                print(f\"Number of pixels with value {i}: {count}\")\n",
    "            \n",
    "                plt.imshow(one_hot[i, :, :].numpy(), cmap='gray')\n",
    "                plt.title(f\"Class {i} One-hot Encoded Channel\")\n",
    "                plt.colorbar()\n",
    "                plt.show()\n",
    "        return one_hot\n",
    "\n",
    "class RandomTransformsDual:\n",
    "    \"\"\"\n",
    "    画像とマスクの両方にランダム変換を適用するクラス\n",
    "    \"\"\"\n",
    "    def __init__(self, transforms):\n",
    "        self.transforms = transforms\n",
    "\n",
    "    def __call__(self, img, mask):\n",
    "        seed = np.random.randint(2147483647)  # 大きな数でランダムシードを設定\n",
    "        np.random.seed(seed)  # 同じシードを使用して、画像とマスクの両方に同じ変換を確実に適用する\n",
    "\n",
    "        for t in self.transforms:\n",
    "            img = t(img)\n",
    "\n",
    "        np.random.seed(seed)\n",
    "        for t in self.transforms:\n",
    "            mask = t(mask)\n",
    "\n",
    "        return img, mask\n",
    "    \n",
    "def custom_crop(image, trim_margin=180):\n",
    "    return image.crop((trim_margin, trim_margin, image.width - trim_margin, image.height - trim_margin))\n",
    "\n",
    "def channelize(mask_array, n_classes=10):\n",
    "    mask_10d = torch.zeros(n_classes, mask_array.shape[0], mask_array.shape[1], dtype=torch.float32)\n",
    "    for i in range(n_classes): \n",
    "        mask_10d[i, :, :] = torch.tensor(mask == i, dtype=torch.float32)\n",
    "    return mask_10d\n",
    "\n",
    "def get_center_array(mask_10d, coord_filter, relative=False):\n",
    "    coords = []\n",
    "    for mask_i in mask_10d[1:]:\n",
    "        if int(mask_i.sum()) == 0:\n",
    "            coords.append([0, 0])\n",
    "            continue\n",
    "        center_yx = [int((mask_i * coord_filter[:, :, 0]).sum() / mask_i.sum()), int((mask_i * coord_filter[:, :, 1]).sum() / mask_i.sum())]\n",
    "        if relative:\n",
    "            center_yx[0] /= mask_i.shape[0]\n",
    "            center_yx[1] /= mask_i.shape[1]\n",
    "        coords.append(center_yx)\n",
    "    assert len(coords) == len(mask_10d) - 1, 'dim incorrect'\n",
    "    return torch.Tensor(coords)\n",
    "\n",
    "class SegmentationDataset(Dataset):\n",
    "    def __init__(self, image_glob_path, image_size, image_transforms=None, mask_transforms=None, random_transforms=None):\n",
    "        self.image_glob_path = image_glob_path\n",
    "        self.image_transforms = image_transforms\n",
    "        self.mask_transforms = mask_transforms\n",
    "        self.random_transforms = random_transforms\n",
    "        self.image_paths = sorted(glob(image_glob_path))\n",
    "        self.coord_filter = np.array([[(i, j) for j in range(image_size)] for i in range(image_size)])\n",
    "\n",
    "    def __len__(self):\n",
    "        return len(self.image_paths)\n",
    "\n",
    "    def __getitem__(self, index):\n",
    "        image_path = self.image_paths[index]\n",
    "        mask_path = image_path.replace('/flw/', '/mask/')\n",
    "        image = Image.open(image_path).convert(\"RGB\")\n",
    "        mask = Image.open(mask_path).convert(\"L\")\n",
    "\n",
    "        if self.random_transforms:\n",
    "            image, mask = self.random_transforms(image, mask)\n",
    "\n",
    "        if self.image_transforms:\n",
    "            image = self.image_transforms(image)\n",
    "\n",
    "        if self.mask_transforms:\n",
    "            mask = self.mask_transforms(mask)\n",
    "            coords = get_center_array(mask, self.coord_filter)\n",
    "\n",
    "        return image, coords\n",
    "\n",
    "random_transforms = RandomTransformsDual([\n",
    "    transforms.RandomHorizontalFlip(),\n",
    "    transforms.RandomRotation(180)  # ±180度のランダムな回転\n",
    "])\n",
    "\n",
    "image_transforms = transforms.Compose([\n",
    "    transforms.Lambda(custom_crop),\n",
    "    transforms.Resize((image_size, image_size)),\n",
    "    transforms.ToTensor(),\n",
    "    transforms.Normalize(mean=[0.485, 0.456, 0.406], std=[0.229, 0.224, 0.225])\n",
    "])\n",
    "\n",
    "mask_transforms = transforms.Compose([\n",
    "    transforms.Lambda(custom_crop),\n",
    "    transforms.Resize((image_size, image_size)),\n",
    "    OneHotTensorEncode(n_classes=10),\n",
    "])\n",
    "\n",
    "flw_glob_path = '../../../../create_synthe_2023/synthetic_flw/flw/*/*'\n",
    "\n",
    "# image_glob_path, mask_glob_path, image_transforms=None, mask_transforms=None, random_transforms=None):\n",
    "dataset = SegmentationDataset(flw_glob_path, image_size, image_transforms=image_transforms, mask_transforms=mask_transforms)\n",
    "dataset_size = len(dataset)\n",
    "\n",
    "train_ratio = 0.7\n",
    "val_ratio = 0.3\n",
    "\n",
    "train_size = int(train_ratio * dataset_size)\n",
    "val_size = int(val_ratio * dataset_size)\n",
    "# test_size = dataset_size - train_size - val_size\n",
    "\n",
    "train_dataset, val_dataset = torch.utils.data.random_split(dataset, [train_size, val_size], generator=torch.Generator().manual_seed(42))\n",
    "# train_dataset, val_dataset, test_dataset = torch.utils.data.random_split(dataset, [train_size, val_size, test_size])\n",
    "\n",
    "# データローダーの作成\n",
    "batch_size = 16\n",
    "num_workers = 48\n",
    "train_dataloader = DataLoader(train_dataset, batch_size=batch_size, shuffle=True, num_workers=num_workers, pin_memory=True)\n",
    "val_dataloader = DataLoader(val_dataset, batch_size=batch_size, shuffle=False, num_workers=num_workers, pin_memory=True)\n",
    "# test_dataloader = DataLoader(test_dataset, batch_size=batch_size, shuffle=False)\n"
   ]
  },
  {
   "cell_type": "code",
   "execution_count": 6,
   "id": "60b4a932-9281-4a1c-9e3b-8952643c6cd6",
   "metadata": {},
   "outputs": [],
   "source": [
    "PAD_TOKEN_IDX = 0\n",
    "SOS_TOKEN_IDX = 1\n",
    "EOS_TOKEN_IDX = 2\n",
    "\n",
    "def tokenize_from_coord(coords):\n",
    "    coords_idx_2d = coords // num_patch_1d\n",
    "    coords_idx_1d = coords_idx_2d @ indexer_1d\n",
    "    \n",
    "    # pad, sos, eosの分だけずらす\n",
    "    target_seq = torch.where(coords_idx_1d != PAD_TOKEN_IDX, coords_idx_1d + 3, PAD_TOKEN_IDX).long()\n",
    "\n",
    "    # SOSトークン、元のシーケンス、EOSトークンを結合\n",
    "    sos_tokens = torch.full((coords.shape[0], 1), SOS_TOKEN_IDX, dtype=torch.long)\n",
    "    eos_tokens = torch.full((coords.shape[0], 1), EOS_TOKEN_IDX, dtype=torch.long)\n",
    "    target_seq = torch.cat((sos_tokens, target_seq, eos_tokens), dim=1)\n",
    "    return target_seq\n"
   ]
  },
  {
   "cell_type": "code",
   "execution_count": 7,
   "id": "c794af33",
   "metadata": {},
   "outputs": [
    {
     "name": "stdout",
     "output_type": "stream",
     "text": [
      "target_seq.shape: torch.Size([16, 11])\n"
     ]
    }
   ],
   "source": [
    "import math\n",
    "import torch\n",
    "import torch.nn as nn\n",
    "\n",
    "from tqdm import tqdm\n",
    "import segmentation_models_pytorch.utils as smp_utils\n",
    "\n",
    "patch_size = 16\n",
    "num_patch_1d = (image_size // patch_size)\n",
    "indexer_1d = np.array([num_patch_1d, 1])\n",
    "\n",
    "d_model = 256\n",
    "# nhead = 8\n",
    "# num_encoder_layers = 3\n",
    "# num_decoder_layers = 3\n",
    "target_vocab_size = num_patch_1d ** 2 + 3 # patchの数 + 予約トークンの数を語彙数とする\n",
    "# len_out_seq = 9\n",
    "\n",
    "model = CoordsViT(image_size=image_size, target_vocab_size=target_vocab_size)\n",
    "path = f'models/{exp_name}_epoch12.pth'\n",
    "model.load_state_dict(torch.load(path))\n",
    "\n",
    "for i, (images, coords) in enumerate(train_dataloader):\n",
    "    target_seq = tokenize_from_coord(coords)\n",
    "    break\n",
    "\n",
    "# output = model(images, target_seq)\n",
    "\n",
    "print(f'target_seq.shape: {target_seq.shape}')\n",
    "# print(f'output.shape: {output.shape}')"
   ]
  },
  {
   "cell_type": "code",
   "execution_count": 8,
   "id": "0d48e16b",
   "metadata": {},
   "outputs": [
    {
     "name": "stdout",
     "output_type": "stream",
     "text": [
      "current_coord_0: tensor([[1]], device='cuda:6')\n",
      "out_0: tensor([[[ 68.4475, 114.5156]]], device='cuda:6', grad_fn=<ViewBackward0>)\n",
      "seq_0: tensor([[ 1, 67]], device='cuda:6')\n",
      "\n",
      "current_coord_1: tensor([[ 1, 67]], device='cuda:6')\n",
      "out_1: tensor([[[ 68.4475, 114.5156],\n",
      "         [ 65.3858, 114.7114]]], device='cuda:6', grad_fn=<ViewBackward0>)\n",
      "seq_1: tensor([[ 1, 67, 67]], device='cuda:6')\n",
      "\n",
      "current_coord_2: tensor([[  1,  67, 148]], device='cuda:6')\n",
      "out_2: tensor([[[ 68.4475, 114.5156],\n",
      "         [ 65.3858, 114.7114],\n",
      "         [142.1242,  73.3745]]], device='cuda:6', grad_fn=<ViewBackward0>)\n",
      "seq_2: tensor([[  1,  67, 148, 148]], device='cuda:6')\n",
      "\n",
      "current_coord_3: tensor([[  1,  67, 148, 126]], device='cuda:6')\n",
      "out_3: tensor([[[ 68.4475, 114.5156],\n",
      "         [ 65.3858, 114.7114],\n",
      "         [142.1242,  73.3745],\n",
      "         [119.2279, 159.9479]]], device='cuda:6', grad_fn=<ViewBackward0>)\n",
      "seq_3: tensor([[  1,  67, 148, 126, 126]], device='cuda:6')\n",
      "\n",
      "current_coord_4: tensor([[  1,  67, 148, 126,  78]], device='cuda:6')\n",
      "out_4: tensor([[[ 68.4475, 114.5156],\n",
      "         [ 65.3858, 114.7114],\n",
      "         [142.1242,  73.3745],\n",
      "         [119.2279, 159.9479],\n",
      "         [ 82.0115,  82.3654]]], device='cuda:6', grad_fn=<ViewBackward0>)\n",
      "seq_4: tensor([[  1,  67, 148, 126,  78,  78]], device='cuda:6')\n",
      "\n",
      "current_coord_5: tensor([[  1,  67, 148, 126,  78, 163]], device='cuda:6')\n",
      "out_5: tensor([[[ 68.4475, 114.5156],\n",
      "         [ 65.3858, 114.7114],\n",
      "         [142.1242,  73.3745],\n",
      "         [119.2279, 159.9479],\n",
      "         [ 82.0115,  82.3654],\n",
      "         [155.0067,  97.9826]]], device='cuda:6', grad_fn=<ViewBackward0>)\n",
      "seq_5: tensor([[  1,  67, 148, 126,  78, 163, 163]], device='cuda:6')\n",
      "\n",
      "current_coord_6: tensor([[  1,  67, 148, 126,  78, 163,  96]], device='cuda:6')\n",
      "out_6: tensor([[[ 68.4475, 114.5156],\n",
      "         [ 65.3858, 114.7114],\n",
      "         [142.1242,  73.3745],\n",
      "         [119.2279, 159.9479],\n",
      "         [ 82.0115,  82.3654],\n",
      "         [155.0067,  97.9826],\n",
      "         [ 87.6347, 141.0140]]], device='cuda:6', grad_fn=<ViewBackward0>)\n",
      "seq_6: tensor([[  1,  67, 148, 126,  78, 163,  96,  97]], device='cuda:6')\n",
      "\n",
      "current_coord_7: tensor([[  1,  67, 148, 126,  78, 163,  96, 120]], device='cuda:6')\n",
      "out_7: tensor([[[ 68.4475, 114.5156],\n",
      "         [ 65.3858, 114.7114],\n",
      "         [142.1242,  73.3745],\n",
      "         [119.2279, 159.9479],\n",
      "         [ 82.0115,  82.3654],\n",
      "         [155.0067,  97.9826],\n",
      "         [ 87.6347, 141.0140],\n",
      "         [114.1874,  76.7337]]], device='cuda:6', grad_fn=<ViewBackward0>)\n",
      "seq_7: tensor([[  1,  67, 148, 126,  78, 163,  96, 120, 120]], device='cuda:6')\n",
      "\n",
      "current_coord_8: tensor([[  1,  67, 148, 126,  78, 163,  96, 120, 138]], device='cuda:6')\n",
      "out_8: tensor([[[ 68.4475, 114.5156],\n",
      "         [ 65.3858, 114.7114],\n",
      "         [142.1242,  73.3745],\n",
      "         [119.2279, 159.9479],\n",
      "         [ 82.0115,  82.3654],\n",
      "         [155.0067,  97.9826],\n",
      "         [ 87.6346, 141.0140],\n",
      "         [114.1874,  76.7337],\n",
      "         [140.3951, 135.2157]]], device='cuda:6', grad_fn=<ViewBackward0>)\n",
      "seq_8: tensor([[  1,  67, 148, 126,  78, 163,  96, 120, 138, 152]], device='cuda:6')\n",
      "\n",
      "current_coord_9: tensor([[  1,  67, 148, 126,  78, 163,  96, 120, 138,   0]], device='cuda:6')\n",
      "out_9: tensor([[[ 6.8448e+01,  1.1452e+02],\n",
      "         [ 6.5386e+01,  1.1471e+02],\n",
      "         [ 1.4212e+02,  7.3374e+01],\n",
      "         [ 1.1923e+02,  1.5995e+02],\n",
      "         [ 8.2012e+01,  8.2365e+01],\n",
      "         [ 1.5501e+02,  9.7983e+01],\n",
      "         [ 8.7635e+01,  1.4101e+02],\n",
      "         [ 1.1419e+02,  7.6734e+01],\n",
      "         [ 1.4040e+02,  1.3522e+02],\n",
      "         [-1.1289e-01, -1.4182e-01]]], device='cuda:6',\n",
      "       grad_fn=<ViewBackward0>)\n",
      "seq_9: tensor([[  1,  67, 148, 126,  78, 163,  96, 120, 138,   0, -12]],\n",
      "       device='cuda:6')\n",
      "\n",
      "[array([ 68.44752, 114.5156 ], dtype=float32), array([ 65.38583, 114.71142], dtype=float32), array([142.12419,  73.37449], dtype=float32), array([119.227905, 159.94788 ], dtype=float32), array([82.01152, 82.36544], dtype=float32), array([155.0067  ,  97.982635], dtype=float32), array([ 87.63466, 141.01402], dtype=float32), array([114.18741,  76.7337 ], dtype=float32), array([140.3951 , 135.21571], dtype=float32), array([-0.11288784, -0.14181924], dtype=float32)]\n"
     ]
    }
   ],
   "source": [
    "seq_length = 11\n",
    "device = torch.device(\"cuda:6\" if torch.cuda.is_available() else \"cpu\")\n",
    "model.to(device)\n",
    "\n",
    "model.eval()\n",
    "test_images, _coord = next(iter(train_dataloader))\n",
    "test_images = test_images.to(device)\n",
    "\n",
    "target_seqs = tokenize_from_coord(_coord)\n",
    "\n",
    "# 推論結果を格納するリスト\n",
    "predicted_coords = []\n",
    "\n",
    "# 画像ごとに推論を行う\n",
    "for image, target_seq in zip(test_images, target_seqs):\n",
    "    image = image.unsqueeze(0)  # Batch sizeの次元を追加\n",
    "\n",
    "    # 推論開始点となる座標の初期値を設定（例えば全て0など、モデルやタスクによって異なる）\n",
    "    current_coord = torch.ones((1, 1), dtype=torch.long).to(device) * SOS_TOKEN_IDX\n",
    "    # current_coord = target_seq.unsqueeze(0).to(device)\n",
    "\n",
    "    # 逐次的に次の座標を推論していく\n",
    "    for i in range(seq_length - 1):  # seq_lengthは推論するシーケンスの長さ\n",
    "        current_coord = target_seq[:i + 1].unsqueeze(0).to(device)\n",
    "        print(f'current_coord_{i}: {current_coord}')\n",
    "\n",
    "        # モデルに現在の画像と座標を入力して次の座標を推論\n",
    "        output = model(image, current_coord)\n",
    "        print(f'out_{i}: {output}')\n",
    "\n",
    "        coords_idx_2d = output[0, -1].cpu().detach().numpy() // num_patch_1d\n",
    "        generated_coord = coords_idx_2d @ indexer_1d + 3\n",
    "        current_coord = torch.cat((current_coord, torch.Tensor([[generated_coord]]).long().to(device)), 1)\n",
    "        print(f'seq_{i}: {current_coord}\\n')\n",
    "\n",
    "        predicted_coords.append(output[0, -1].cpu().detach().numpy())\n",
    "    break\n",
    "\n",
    "# 推論結果を確認\n",
    "print(predicted_coords)\n"
   ]
  },
  {
   "cell_type": "code",
   "execution_count": 14,
   "id": "b2f657c4-fc4c-4b12-a438-f4d004200eed",
   "metadata": {},
   "outputs": [
    {
     "data": {
      "text/plain": [
       "tensor([[ 55., 107.],\n",
       "        [155.,  78.],\n",
       "        [153., 142.],\n",
       "        [ 93., 157.],\n",
       "        [ 85.,  68.],\n",
       "        [  0.,   0.],\n",
       "        [  0.,   0.],\n",
       "        [  0.,   0.],\n",
       "        [  0.,   0.]])"
      ]
     },
     "execution_count": 14,
     "metadata": {},
     "output_type": "execute_result"
    }
   ],
   "source": [
    "_coord[0]"
   ]
  },
  {
   "cell_type": "code",
   "execution_count": 12,
   "id": "d7ac96d4-1a1f-4938-9e4f-1c4c5e0172a2",
   "metadata": {},
   "outputs": [
    {
     "data": {
      "text/plain": [
       "tensor([[[ 58.5045, 110.5852],\n",
       "         [ 55.2404, 109.0599],\n",
       "         [ 54.2593, 108.9295],\n",
       "         [ 54.3495, 108.7642],\n",
       "         [ 54.5302, 108.5181],\n",
       "         [ 54.7692, 108.1710],\n",
       "         [ 55.0720, 107.7374],\n",
       "         [ 55.4336, 107.2152],\n",
       "         [ 55.8557, 106.6170],\n",
       "         [ 56.3626, 105.9334],\n",
       "         [ 59.5306, 103.5058]]], device='cuda:6', grad_fn=<ViewBackward0>)"
      ]
     },
     "execution_count": 12,
     "metadata": {},
     "output_type": "execute_result"
    }
   ],
   "source": [
    "output"
   ]
  },
  {
   "cell_type": "code",
   "execution_count": 33,
   "id": "b0534757-bf68-42ab-a7e3-d23648297f8e",
   "metadata": {},
   "outputs": [
    {
     "data": {
      "text/plain": [
       "81.0"
      ]
     },
     "execution_count": 33,
     "metadata": {},
     "output_type": "execute_result"
    }
   ],
   "source": [
    "coords_idx_2d = output[0, -1].cpu().detach().numpy() // num_patch_1d\n",
    "generated_coord = coords_idx_2d @ indexer_1d + 3\n",
    "generated_coord"
   ]
  },
  {
   "cell_type": "code",
   "execution_count": 34,
   "id": "3d363446-6b34-4bac-afcf-0d84f175208f",
   "metadata": {},
   "outputs": [
    {
     "data": {
      "text/plain": [
       "tensor([[ 1, 81]], device='cuda:6')"
      ]
     },
     "execution_count": 34,
     "metadata": {},
     "output_type": "execute_result"
    }
   ],
   "source": [
    "# current_coord = torch.ones((1, 1), dtype=torch.long).to(device) * 1\n",
    "current_coord = torch.cat((current_coord, torch.Tensor([[generated_coord]]).long().to(device)), 1)\n",
    "current_coord"
   ]
  },
  {
   "cell_type": "code",
   "execution_count": 22,
   "id": "8be46f07-3b43-4267-87cd-c4f6fe71a7c0",
   "metadata": {},
   "outputs": [
    {
     "data": {
      "text/plain": [
       "tensor([ 69.5194, 109.1189], device='cuda:6', grad_fn=<SelectBackward0>)"
      ]
     },
     "execution_count": 22,
     "metadata": {},
     "output_type": "execute_result"
    }
   ],
   "source": [
    "output[0, -1]"
   ]
  },
  {
   "cell_type": "code",
   "execution_count": 16,
   "id": "ea0aba42-d153-41bc-9118-476afbbb70f5",
   "metadata": {},
   "outputs": [
    {
     "data": {
      "text/plain": [
       "tensor([ 1, 80], device='cuda:6')"
      ]
     },
     "execution_count": 16,
     "metadata": {},
     "output_type": "execute_result"
    }
   ],
   "source": [
    "current_coord[0]"
   ]
  },
  {
   "cell_type": "code",
   "execution_count": 17,
   "id": "1f66fdf0-d73b-4df3-a206-4edcf78fa04f",
   "metadata": {},
   "outputs": [
    {
     "data": {
      "text/plain": [
       "array([5., 7.], dtype=float32)"
      ]
     },
     "execution_count": 17,
     "metadata": {},
     "output_type": "execute_result"
    }
   ],
   "source": [
    "coords_idx_2d[0][-1]"
   ]
  },
  {
   "cell_type": "code",
   "execution_count": 18,
   "id": "5c732aff-2046-4d08-82cf-8730013faddc",
   "metadata": {},
   "outputs": [
    {
     "data": {
      "text/plain": [
       "array([[80.]])"
      ]
     },
     "execution_count": 18,
     "metadata": {},
     "output_type": "execute_result"
    }
   ],
   "source": [
    "generated_coord"
   ]
  },
  {
   "cell_type": "code",
   "execution_count": 19,
   "id": "aabdd5f5-e38c-4fc4-b03c-9e63c363169b",
   "metadata": {},
   "outputs": [
    {
     "data": {
      "text/plain": [
       "array([[ 82.25144 , 106.746315]], dtype=float32)"
      ]
     },
     "execution_count": 19,
     "metadata": {},
     "output_type": "execute_result"
    }
   ],
   "source": [
    "np.array(predicted_coords)"
   ]
  },
  {
   "cell_type": "code",
   "execution_count": 69,
   "id": "bd637df3-5baa-479a-bdd6-f4027849476e",
   "metadata": {},
   "outputs": [
    {
     "data": {
      "text/plain": [
       "tensor([  1,  81,  81,  ..., 138, 138, 138], device='cuda:6')"
      ]
     },
     "execution_count": 69,
     "metadata": {},
     "output_type": "execute_result"
    }
   ],
   "source": [
    "current_coord[0]"
   ]
  },
  {
   "cell_type": "code",
   "execution_count": 16,
   "id": "69e9dd6c-6d4f-4cab-96e1-8e085b990011",
   "metadata": {},
   "outputs": [
    {
     "data": {
      "text/plain": [
       "(tensor([[ 74., 124.],\n",
       "         [103.,  75.],\n",
       "         [149., 110.],\n",
       "         [114., 149.],\n",
       "         [  0.,   0.],\n",
       "         [  0.,   0.],\n",
       "         [  0.,   0.],\n",
       "         [  0.,   0.],\n",
       "         [  0.,   0.]]),\n",
       " tensor([  1,  81, 106, 150, 125,   0,   0,   0,   0,   0,   2]),\n",
       " tensor([[1]], device='cuda:6'),\n",
       " tensor([[[ 77.7847, 122.2136]]], device='cuda:6', grad_fn=<ViewBackward0>))"
      ]
     },
     "execution_count": 16,
     "metadata": {},
     "output_type": "execute_result"
    }
   ],
   "source": [
    "_coord[0], target_seq, current_coord, output"
   ]
  },
  {
   "cell_type": "code",
   "execution_count": 21,
   "id": "5bac6f97-eb86-41b0-bf40-a12e75df66b3",
   "metadata": {},
   "outputs": [
    {
     "data": {
      "text/plain": [
       "torch.Size([16, 9, 2])"
      ]
     },
     "execution_count": 21,
     "metadata": {},
     "output_type": "execute_result"
    }
   ],
   "source": [
    "_coord.shape"
   ]
  },
  {
   "cell_type": "code",
   "execution_count": 34,
   "id": "231c09c4-f301-44a2-b3af-e4d9f94b8a59",
   "metadata": {},
   "outputs": [
    {
     "data": {
      "text/plain": [
       "torch.Size([2])"
      ]
     },
     "execution_count": 34,
     "metadata": {},
     "output_type": "execute_result"
    }
   ],
   "source": [
    "output[0, 0].shape"
   ]
  },
  {
   "cell_type": "code",
   "execution_count": 50,
   "id": "da03837e-3f8c-45e6-8975-ced36223488c",
   "metadata": {},
   "outputs": [
    {
     "data": {
      "text/plain": [
       "array([[78.]])"
      ]
     },
     "execution_count": 50,
     "metadata": {},
     "output_type": "execute_result"
    }
   ],
   "source": [
    "coords_idx_2d = output.cpu().detach().numpy() // num_patch_1d\n",
    "generated_coord = coords_idx_2d @ indexer_1d\n",
    "generated_coord"
   ]
  },
  {
   "cell_type": "code",
   "execution_count": 52,
   "id": "89c335c8-cdf4-4167-8798-81abf07040d0",
   "metadata": {},
   "outputs": [
    {
     "data": {
      "text/plain": [
       "tensor([[1]], device='cuda:6')"
      ]
     },
     "execution_count": 52,
     "metadata": {},
     "output_type": "execute_result"
    }
   ],
   "source": [
    "current_coord"
   ]
  },
  {
   "cell_type": "code",
   "execution_count": 51,
   "id": "b9fed3ab-7150-4d20-a7e1-75fa7e2fb739",
   "metadata": {},
   "outputs": [
    {
     "data": {
      "text/plain": [
       "tensor([[ 1, 78]], device='cuda:6')"
      ]
     },
     "execution_count": 51,
     "metadata": {},
     "output_type": "execute_result"
    }
   ],
   "source": [
    "torch.cat((current_coord, torch.Tensor(generated_coord).long().to(device)), 1)"
   ]
  },
  {
   "cell_type": "code",
   "execution_count": 44,
   "id": "75276d4c-8f82-4d5b-b101-cda04478fdd6",
   "metadata": {},
   "outputs": [
    {
     "data": {
      "text/plain": [
       "tensor([[235]], device='cuda:6')"
      ]
     },
     "execution_count": 44,
     "metadata": {},
     "output_type": "execute_result"
    }
   ],
   "source": [
    "current_coord += torch.Tensor(generated_coord).long().to(device)\n",
    "current_coord"
   ]
  },
  {
   "cell_type": "code",
   "execution_count": null,
   "id": "62950dd9-1df4-44ae-a666-d7c3f2558a8b",
   "metadata": {},
   "outputs": [],
   "source": [
    "coords_idx_2d = coords // num_patch_1d\n",
    "coords_idx_1d = coords_idx_2d @ indexer_1d"
   ]
  },
  {
   "cell_type": "code",
   "execution_count": 26,
   "id": "ff459b3c-3a85-48ee-b088-b77d8518f487",
   "metadata": {},
   "outputs": [
    {
     "ename": "TypeError",
     "evalue": "where() received an invalid combination of arguments - got (numpy.ndarray, numpy.ndarray, int), but expected one of:\n * (Tensor condition)\n * (Tensor condition, Tensor input, Tensor other, *, Tensor out)\n * (Tensor condition, Number self, Tensor other)\n      didn't match because some of the arguments have invalid types: (!numpy.ndarray!, !numpy.ndarray!, !int!)\n * (Tensor condition, Tensor input, Number other)\n      didn't match because some of the arguments have invalid types: (!numpy.ndarray!, !numpy.ndarray!, !int!)\n * (Tensor condition, Number self, Number other)\n      didn't match because some of the arguments have invalid types: (!numpy.ndarray!, !numpy.ndarray!, !int!)\n",
     "output_type": "error",
     "traceback": [
      "\u001b[0;31m---------------------------------------------------------------------------\u001b[0m",
      "\u001b[0;31mTypeError\u001b[0m                                 Traceback (most recent call last)",
      "Cell \u001b[0;32mIn[26], line 1\u001b[0m\n\u001b[0;32m----> 1\u001b[0m \u001b[43mtokenize_from_coord\u001b[49m\u001b[43m(\u001b[49m\u001b[43moutput\u001b[49m\u001b[38;5;241;43m.\u001b[39;49m\u001b[43mcpu\u001b[49m\u001b[43m(\u001b[49m\u001b[43m)\u001b[49m\u001b[38;5;241;43m.\u001b[39;49m\u001b[43mdetach\u001b[49m\u001b[43m(\u001b[49m\u001b[43m)\u001b[49m\u001b[38;5;241;43m.\u001b[39;49m\u001b[43mnumpy\u001b[49m\u001b[43m(\u001b[49m\u001b[43m)\u001b[49m\u001b[43m)\u001b[49m\n",
      "Cell \u001b[0;32mIn[6], line 10\u001b[0m, in \u001b[0;36mtokenize_from_coord\u001b[0;34m(coords)\u001b[0m\n\u001b[1;32m      7\u001b[0m coords_idx_1d \u001b[38;5;241m=\u001b[39m coords_idx_2d \u001b[38;5;241m@\u001b[39m indexer_1d\n\u001b[1;32m      9\u001b[0m \u001b[38;5;66;03m# pad, sos, eosの分だけずらす\u001b[39;00m\n\u001b[0;32m---> 10\u001b[0m target_seq \u001b[38;5;241m=\u001b[39m \u001b[43mtorch\u001b[49m\u001b[38;5;241;43m.\u001b[39;49m\u001b[43mwhere\u001b[49m\u001b[43m(\u001b[49m\u001b[43mcoords_idx_1d\u001b[49m\u001b[43m \u001b[49m\u001b[38;5;241;43m!=\u001b[39;49m\u001b[43m \u001b[49m\u001b[43mPAD_TOKEN_IDX\u001b[49m\u001b[43m,\u001b[49m\u001b[43m \u001b[49m\u001b[43mcoords_idx_1d\u001b[49m\u001b[43m \u001b[49m\u001b[38;5;241;43m+\u001b[39;49m\u001b[43m \u001b[49m\u001b[38;5;241;43m3\u001b[39;49m\u001b[43m,\u001b[49m\u001b[43m \u001b[49m\u001b[43mPAD_TOKEN_IDX\u001b[49m\u001b[43m)\u001b[49m\u001b[38;5;241m.\u001b[39mlong()\n\u001b[1;32m     12\u001b[0m \u001b[38;5;66;03m# SOSトークン、元のシーケンス、EOSトークンを結合\u001b[39;00m\n\u001b[1;32m     13\u001b[0m sos_tokens \u001b[38;5;241m=\u001b[39m torch\u001b[38;5;241m.\u001b[39mfull((coords\u001b[38;5;241m.\u001b[39mshape[\u001b[38;5;241m0\u001b[39m], \u001b[38;5;241m1\u001b[39m), SOS_TOKEN_IDX, dtype\u001b[38;5;241m=\u001b[39mtorch\u001b[38;5;241m.\u001b[39mlong)\n",
      "\u001b[0;31mTypeError\u001b[0m: where() received an invalid combination of arguments - got (numpy.ndarray, numpy.ndarray, int), but expected one of:\n * (Tensor condition)\n * (Tensor condition, Tensor input, Tensor other, *, Tensor out)\n * (Tensor condition, Number self, Tensor other)\n      didn't match because some of the arguments have invalid types: (!numpy.ndarray!, !numpy.ndarray!, !int!)\n * (Tensor condition, Tensor input, Number other)\n      didn't match because some of the arguments have invalid types: (!numpy.ndarray!, !numpy.ndarray!, !int!)\n * (Tensor condition, Number self, Number other)\n      didn't match because some of the arguments have invalid types: (!numpy.ndarray!, !numpy.ndarray!, !int!)\n"
     ]
    }
   ],
   "source": [
    "tokenize_from_coord(output.cpu().detach().numpy())"
   ]
  },
  {
   "cell_type": "code",
   "execution_count": null,
   "id": "a72aa0ed-d821-45e2-92fe-de2865b1f38f",
   "metadata": {},
   "outputs": [],
   "source": [
    "criterion = nn.MSELoss().to(device)\n"
   ]
  },
  {
   "cell_type": "code",
   "execution_count": null,
   "id": "8a9e920f",
   "metadata": {},
   "outputs": [],
   "source": [
    "for channel in cross_attention_maps.to('cpu')[0]:\n",
    "    print(channel)\n",
    "    break"
   ]
  },
  {
   "cell_type": "code",
   "execution_count": null,
   "id": "020395a3",
   "metadata": {},
   "outputs": [],
   "source": [
    "for channel in mask_proportions.to('cpu')[0]:\n",
    "    print(channel)\n",
    "    break"
   ]
  },
  {
   "cell_type": "code",
   "execution_count": null,
   "id": "e91e651d",
   "metadata": {},
   "outputs": [],
   "source": []
  },
  {
   "cell_type": "code",
   "execution_count": null,
   "id": "1fd80b0a",
   "metadata": {},
   "outputs": [],
   "source": [
    "for i in "
   ]
  },
  {
   "cell_type": "code",
   "execution_count": null,
   "id": "1d9cf783",
   "metadata": {},
   "outputs": [],
   "source": [
    "predicted_indices = torch.argmax(pred_probs, dim=-1)\n",
    "predicted_indices"
   ]
  },
  {
   "cell_type": "code",
   "execution_count": null,
   "id": "ced4f060",
   "metadata": {},
   "outputs": [],
   "source": [
    "loss_mask"
   ]
  },
  {
   "cell_type": "code",
   "execution_count": null,
   "id": "d60fec84",
   "metadata": {},
   "outputs": [],
   "source": [
    "loss_seq"
   ]
  },
  {
   "cell_type": "code",
   "execution_count": null,
   "id": "de25b065",
   "metadata": {
    "scrolled": true
   },
   "outputs": [],
   "source": [
    "predicted_indices = torch.argmax(pred_probs, dim=-1)\n",
    "predicted_indices"
   ]
  },
  {
   "cell_type": "code",
   "execution_count": null,
   "id": "7909af27",
   "metadata": {},
   "outputs": [],
   "source": [
    "loss_seq"
   ]
  },
  {
   "cell_type": "code",
   "execution_count": null,
   "id": "cdb1122a",
   "metadata": {},
   "outputs": [],
   "source": [
    "loss_mask"
   ]
  },
  {
   "cell_type": "code",
   "execution_count": 19,
   "id": "124809f3",
   "metadata": {},
   "outputs": [
    {
     "data": {
      "text/plain": [
       "tensor(0.7469, device='cuda:2')"
      ]
     },
     "execution_count": 19,
     "metadata": {},
     "output_type": "execute_result"
    }
   ],
   "source": [
    "loss_seq"
   ]
  },
  {
   "cell_type": "code",
   "execution_count": 13,
   "id": "934ffb21",
   "metadata": {},
   "outputs": [
    {
     "name": "stdout",
     "output_type": "stream",
     "text": [
      "torch.Size([12, 11])\n",
      "tensor(0.7357)\n"
     ]
    }
   ],
   "source": [
    "import torch.nn.functional as F\n",
    "print(predicted_indices.shape)\n",
    "pred_one_hot = F.one_hot(predicted_indices).float()\n",
    "gt_one_hot = F.one_hot(target_seq).float()\n",
    "loss = F.binary_cross_entropy_with_logits(pred_one_hot, gt_one_hot)\n",
    "\n",
    "print(loss)"
   ]
  },
  {
   "cell_type": "code",
   "execution_count": 9,
   "id": "a0bf5929",
   "metadata": {},
   "outputs": [
    {
     "data": {
      "text/plain": [
       "tensor([[ 0,  1,  2,  3,  4,  5, 10, 10, 10, 10, 10],\n",
       "        [ 0,  1,  2,  3,  4,  5,  6,  7, 10, 10, 10],\n",
       "        [ 0,  1,  2,  3,  4,  5, 10, 10, 10, 10, 10],\n",
       "        [ 0,  1,  2,  3,  4,  5,  6,  7,  8, 10, 10],\n",
       "        [ 0,  1,  2,  3,  4,  5,  6,  7,  8, 10, 10],\n",
       "        [ 0,  1,  2,  3,  4,  5, 10, 10, 10, 10, 10],\n",
       "        [ 0,  1,  2,  3,  4,  5,  6,  7,  8, 10, 10],\n",
       "        [ 0,  1,  2,  3,  4,  5,  6,  7,  8, 10, 10],\n",
       "        [ 0,  1,  2,  3,  4,  5,  6, 10, 10, 10, 10],\n",
       "        [ 0,  1,  2,  3,  4,  5,  6, 10, 10, 10, 10],\n",
       "        [ 0,  1,  2,  3,  4,  5, 10, 10, 10, 10, 10],\n",
       "        [ 0,  1,  2,  3,  4,  5,  6,  7, 10, 10, 10]])"
      ]
     },
     "execution_count": 9,
     "metadata": {},
     "output_type": "execute_result"
    }
   ],
   "source": [
    "target_seq"
   ]
  },
  {
   "cell_type": "code",
   "execution_count": null,
   "id": "aca29df2",
   "metadata": {
    "scrolled": true
   },
   "outputs": [],
   "source": [
    "import torch\n",
    "import matplotlib.pyplot as plt\n",
    "\n",
    "def recreate_image_from_attention(cross_attention_map, img_size, patch_size):\n",
    "    \"\"\"\n",
    "    cross_attention_map: shape [11, 1024] (or any [channel_out, flattened_img_size])\n",
    "    img_size: Original image size (e.g., 224 for a 224x224 image)\n",
    "    patch_size: The size of each patch (e.g., 16 for 16x16 patches)\n",
    "    \"\"\"\n",
    "    channel_out, flattened_img_size = cross_attention_map.shape\n",
    "    patches_per_dim = img_size // patch_size\n",
    "    \n",
    "    # Reshape to [channel_out, patches_per_dim, patches_per_dim]\n",
    "    reshaped_attention_map = cross_attention_map.view(channel_out, patches_per_dim, patches_per_dim)\n",
    "    \n",
    "    # Initialize tensor to store the recreated image\n",
    "    recreated_images = torch.zeros((channel_out, img_size, img_size))\n",
    "    \n",
    "    # Fill in the recreated image tensor\n",
    "    for i in range(patches_per_dim):\n",
    "        for j in range(patches_per_dim):\n",
    "            recreated_images[:, i*patch_size:(i+1)*patch_size, j*patch_size:(j+1)*patch_size] = reshaped_attention_map[:, i, j].unsqueeze(1).unsqueeze(2)\n",
    "            \n",
    "    return recreated_images\n",
    "\n",
    "\n",
    "# Call the function\n",
    "recreated_images = recreate_image_from_attention(cross_attention_maps[0][0], image_size, patch_size)\n",
    "\n",
    "# Visualize\n",
    "for i in range(recreated_images.shape[0]):\n",
    "    plt.figure()\n",
    "    plt.imshow(recreated_images[i].detach().numpy(), cmap=\"gray\")\n",
    "    plt.title(f\"Channel {i}\")\n",
    "    plt.show()\n"
   ]
  },
  {
   "cell_type": "code",
   "execution_count": null,
   "id": "7a68e7dd",
   "metadata": {},
   "outputs": [],
   "source": [
    "recreated_images = recreate_image_from_attention(mask_proportions[0], image_size, patch_size)\n",
    "\n",
    "# Visualize\n",
    "for i in range(recreated_images.shape[0]):\n",
    "    plt.figure()\n",
    "    plt.imshow(recreated_images[i].detach().numpy(), cmap=\"gray\")\n",
    "    plt.title(f\"Channel {i}\")\n",
    "    plt.show()\n"
   ]
  },
  {
   "cell_type": "markdown",
   "id": "97230f80",
   "metadata": {},
   "source": [
    "## Idea \n",
    "\n"
   ]
  },
  {
   "cell_type": "markdown",
   "id": "47da6744",
   "metadata": {},
   "source": [
    "* クラスラベルの順列を出力系列とするのは、あまりに難しそう。\n",
    "* docoderに入力するのは、各パッチの特徴を並べたもの"
   ]
  },
  {
   "cell_type": "markdown",
   "id": "48146461",
   "metadata": {},
   "source": [
    "target_seqの系列長と最終的に出力してほしいsequence_lengthは一般には同じである必要はありません。Transformerモデルの訓練時においては、通常、ターゲット系列（target_seq）は入力として使われるだけでなく、訓練のラベルとしても使用されます。その場合、target_seqの系列長は出力と一致するように設計されることが多いです。\n",
    "\n",
    "しかし、推論（予測）時には、通常、開始トークンだけをtarget_seqとして使用し、モデルがその後のトークンを一つずつ生成するようにします。この場合、target_seqの初期の長さは1であり、出力のsequence_lengthは1から始まって任意の長さになり得ます（停止条件または最大長に達するまで）。\n",
    "\n",
    "簡単に言うと、訓練と推論でtarget_seqの役割が少し異なるため、その長さもそれに応じて変わります。"
   ]
  },
  {
   "cell_type": "code",
   "execution_count": 52,
   "id": "32e7d030",
   "metadata": {},
   "outputs": [
    {
     "data": {
      "text/plain": [
       "True"
      ]
     },
     "execution_count": 52,
     "metadata": {},
     "output_type": "execute_result"
    }
   ],
   "source": [
    "predicted_indices = torch.argmax(output, dim=-1)\n",
    "predicted_indices.shape == target_seq.shape"
   ]
  },
  {
   "cell_type": "code",
   "execution_count": null,
   "id": "34417d66",
   "metadata": {},
   "outputs": [],
   "source": []
  },
  {
   "cell_type": "code",
   "execution_count": null,
   "id": "be11564d",
   "metadata": {},
   "outputs": [],
   "source": []
  }
 ],
 "metadata": {
  "kernelspec": {
   "display_name": "Python 3 (ipykernel)",
   "language": "python",
   "name": "python3"
  },
  "language_info": {
   "codemirror_mode": {
    "name": "ipython",
    "version": 3
   },
   "file_extension": ".py",
   "mimetype": "text/x-python",
   "name": "python",
   "nbconvert_exporter": "python",
   "pygments_lexer": "ipython3",
   "version": "3.10.13"
  }
 },
 "nbformat": 4,
 "nbformat_minor": 5
}
