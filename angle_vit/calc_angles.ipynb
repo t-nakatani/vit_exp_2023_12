{
 "cells": [
  {
   "cell_type": "code",
   "execution_count": 6,
   "id": "7c91ca70-ada6-4759-a721-3946581c5093",
   "metadata": {},
   "outputs": [
    {
     "data": {
      "text/plain": [
       "[[68.0, 108.0],\n",
       " [150.0, 89.0],\n",
       " [126.0, 155.0],\n",
       " [86.0, 80.0],\n",
       " [142.0, 128.0],\n",
       " [84.0, 134.0],\n",
       " [117.0, 76.0],\n",
       " [0.0, 0.0],\n",
       " [0.0, 0.0]]"
      ]
     },
     "execution_count": 6,
     "metadata": {},
     "output_type": "execute_result"
    }
   ],
   "source": [
    "coords = [\n",
    "    [ 68., 108.],\n",
    "    [150.,  89.],\n",
    "    [126., 155.],\n",
    "    [ 86.,  80.],\n",
    "    [142., 128.],\n",
    "    [ 84., 134.],\n",
    "    [117.,  76.],\n",
    "    [  0.,   0.],\n",
    "    [  0.,   0.]\n",
    "]\n",
    "coords"
   ]
  },
  {
   "cell_type": "code",
   "execution_count": null,
   "id": "da67fef9-0189-407e-8791-2df63ab5aba6",
   "metadata": {},
   "outputs": [],
   "source": []
  },
  {
   "cell_type": "code",
   "execution_count": 24,
   "id": "61f29c8f-d8fc-4958-bbb0-ab662baf3a87",
   "metadata": {},
   "outputs": [
    {
     "data": {
      "text/plain": [
       "array([[ -42.42857143,   -2.        ],\n",
       "       [  39.57142857,  -21.        ],\n",
       "       [  15.57142857,   45.        ],\n",
       "       [ -24.42857143,  -30.        ],\n",
       "       [  31.57142857,   18.        ],\n",
       "       [ -26.42857143,   24.        ],\n",
       "       [   6.57142857,  -34.        ],\n",
       "       [-110.42857143, -110.        ],\n",
       "       [-110.42857143, -110.        ]])"
      ]
     },
     "execution_count": 24,
     "metadata": {},
     "output_type": "execute_result"
    }
   ],
   "source": [
    "import numpy as np\n",
    "\n",
    "deviations = coords - np.array(coords[:7]).mean(axis=0)\n",
    "deviations"
   ]
  },
  {
   "cell_type": "code",
   "execution_count": 30,
   "id": "0f6e0056-0f02-434b-b38e-0fe1294550f7",
   "metadata": {},
   "outputs": [
    {
     "data": {
      "text/plain": [
       "array([ 42.47568332,  44.79841469,  47.61795237,  38.68791933,\n",
       "        36.34219451,  35.69971131,  34.62923149, 155.86683222,\n",
       "       155.86683222])"
      ]
     },
     "execution_count": 30,
     "metadata": {},
     "output_type": "execute_result"
    }
   ],
   "source": [
    "norms = np.linalg.norm(deviations, axis=1)\n",
    "norms"
   ]
  },
  {
   "cell_type": "code",
   "execution_count": 46,
   "id": "efa63290-d9b2-4c6d-b35b-8dae7c2cb586",
   "metadata": {
    "scrolled": true
   },
   "outputs": [
    {
     "data": {
      "text/plain": [
       "array([[-0.99889085, -0.04708576],\n",
       "       [ 0.88332207, -0.46876659],\n",
       "       [ 0.32700752,  0.94502174],\n",
       "       [-0.63142634, -0.77543586],\n",
       "       [ 0.86872653,  0.49529205],\n",
       "       [-0.7403021 ,  0.67227434],\n",
       "       [ 0.18976536, -0.98182947],\n",
       "       [-0.70848024, -0.70573064],\n",
       "       [-0.70848024, -0.70573064]])"
      ]
     },
     "execution_count": 46,
     "metadata": {},
     "output_type": "execute_result"
    }
   ],
   "source": [
    "np.array([deviations.T[i] / norms for i in range(2)]).T"
   ]
  },
  {
   "cell_type": "code",
   "execution_count": 90,
   "id": "c50c4d5d-ea33-4457-9512-57f349ccd8ad",
   "metadata": {},
   "outputs": [
    {
     "data": {
      "text/plain": [
       "array([[-0.99889062, -0.04708575],\n",
       "       [ 0.88332188, -0.46876648],\n",
       "       [ 0.32700745,  0.94502154],\n",
       "       [-0.63142618, -0.77543566],\n",
       "       [ 0.86872629,  0.49529191],\n",
       "       [-0.7403019 ,  0.67227416],\n",
       "       [ 0.1897653 , -0.98182919],\n",
       "       [ 0.        ,  0.        ],\n",
       "       [ 0.        ,  0.        ]])"
      ]
     },
     "execution_count": 90,
     "metadata": {},
     "output_type": "execute_result"
    }
   ],
   "source": [
    "coords = np.array([\n",
    "    [ 68., 108.],\n",
    "    [150.,  89.],\n",
    "    [126., 155.],\n",
    "    [ 86.,  80.],\n",
    "    [142., 128.],\n",
    "    [ 84., 134.],\n",
    "    [117.,  76.],\n",
    "    [  0.,   0.],\n",
    "    [  0.,   0.]\n",
    "])\n",
    "\n",
    "deviations = coords - coords[coords != 0].reshape(-1, 2).mean(axis=0)\n",
    "norms = np.linalg.norm(deviations, axis=1)\n",
    "sin_cos = np.array([deviations.T[i] / norms for i in range(2)]).T\n",
    "sin_cos[coords == 0] = 0\n",
    "sin_cos"
   ]
  },
  {
   "cell_type": "code",
   "execution_count": 83,
   "id": "b3919f99-5e1a-4769-ae11-f57c02920f7d",
   "metadata": {},
   "outputs": [
    {
     "data": {
      "text/plain": [
       "nan"
      ]
     },
     "execution_count": 83,
     "metadata": {},
     "output_type": "execute_result"
    }
   ],
   "source": []
  },
  {
   "cell_type": "code",
   "execution_count": 78,
   "id": "f3dce0fa-88ad-4625-8788-a913e42722ba",
   "metadata": {},
   "outputs": [
    {
     "data": {
      "text/plain": [
       "array([[-0.99889085, -0.04708576],\n",
       "       [ 0.88332207, -0.46876659],\n",
       "       [ 0.32700752,  0.94502174],\n",
       "       [-0.63142634, -0.77543586],\n",
       "       [ 0.86872653,  0.49529205],\n",
       "       [-0.7403021 ,  0.67227434],\n",
       "       [ 0.18976536, -0.98182947],\n",
       "       [ 0.        ,  0.        ],\n",
       "       [ 0.        ,  0.        ]])"
      ]
     },
     "execution_count": 78,
     "metadata": {},
     "output_type": "execute_result"
    }
   ],
   "source": [
    "sin_cos[coords == 0] = 0\n",
    "sin_cos"
   ]
  },
  {
   "cell_type": "code",
   "execution_count": 70,
   "id": "a9210154-d6e4-4330-ae77-d13050cc0bb5",
   "metadata": {},
   "outputs": [
    {
     "data": {
      "text/plain": [
       "array([ 42.47568332,  44.79841469,  47.61795237,  38.68791933,\n",
       "        36.34219451,  35.69971131,  34.62923149, 155.86683222,\n",
       "       155.86683222])"
      ]
     },
     "execution_count": 70,
     "metadata": {},
     "output_type": "execute_result"
    }
   ],
   "source": [
    "norms"
   ]
  },
  {
   "cell_type": "code",
   "execution_count": 59,
   "id": "8aaf3012-3f4b-41a2-9b27-a0d9c8bb85b0",
   "metadata": {},
   "outputs": [
    {
     "data": {
      "text/plain": [
       "array([110.42857143, 110.        ])"
      ]
     },
     "execution_count": 59,
     "metadata": {},
     "output_type": "execute_result"
    }
   ],
   "source": [
    "np.array(coords[:7]).mean(axis=0)"
   ]
  },
  {
   "cell_type": "code",
   "execution_count": 60,
   "id": "25207e61-2c20-4e64-8fff-e8599232a33a",
   "metadata": {},
   "outputs": [
    {
     "data": {
      "text/plain": [
       "array([110.42857143, 110.        ])"
      ]
     },
     "execution_count": 60,
     "metadata": {},
     "output_type": "execute_result"
    }
   ],
   "source": [
    "coords = np.array(coords)\n",
    "np.array(coords[:7]).mean(axis=0)"
   ]
  },
  {
   "cell_type": "code",
   "execution_count": 61,
   "id": "6f9cb366-381f-4233-bea9-cbd21710f2b5",
   "metadata": {},
   "outputs": [
    {
     "data": {
      "text/plain": [
       "110.21428571428571"
      ]
     },
     "execution_count": 61,
     "metadata": {},
     "output_type": "execute_result"
    }
   ],
   "source": [
    "coords = np.array(coords)\n",
    "coords[coords != 0].mean(axis=0)"
   ]
  },
  {
   "cell_type": "code",
   "execution_count": 64,
   "id": "1879dc2c-b6a7-4fdd-8d28-7bc2af766769",
   "metadata": {},
   "outputs": [
    {
     "data": {
      "text/plain": [
       "array([[ 68., 108.],\n",
       "       [150.,  89.],\n",
       "       [126., 155.],\n",
       "       [ 86.,  80.],\n",
       "       [142., 128.],\n",
       "       [ 84., 134.],\n",
       "       [117.,  76.],\n",
       "       [  0.,   0.],\n",
       "       [  0.,   0.]])"
      ]
     },
     "execution_count": 64,
     "metadata": {},
     "output_type": "execute_result"
    }
   ],
   "source": [
    "coords"
   ]
  },
  {
   "cell_type": "code",
   "execution_count": 68,
   "id": "8a28dd1d-d4fe-48d9-8f6b-89c8bf555508",
   "metadata": {},
   "outputs": [
    {
     "data": {
      "text/plain": [
       "array([110.42857143, 110.        ])"
      ]
     },
     "execution_count": 68,
     "metadata": {},
     "output_type": "execute_result"
    }
   ],
   "source": []
  },
  {
   "cell_type": "code",
   "execution_count": null,
   "id": "6ef990f4-473a-4d4d-a6ca-dcb66d670a5f",
   "metadata": {},
   "outputs": [],
   "source": []
  }
 ],
 "metadata": {
  "kernelspec": {
   "display_name": "Python 3 (ipykernel)",
   "language": "python",
   "name": "python3"
  },
  "language_info": {
   "codemirror_mode": {
    "name": "ipython",
    "version": 3
   },
   "file_extension": ".py",
   "mimetype": "text/x-python",
   "name": "python",
   "nbconvert_exporter": "python",
   "pygments_lexer": "ipython3",
   "version": "3.10.13"
  }
 },
 "nbformat": 4,
 "nbformat_minor": 5
}
