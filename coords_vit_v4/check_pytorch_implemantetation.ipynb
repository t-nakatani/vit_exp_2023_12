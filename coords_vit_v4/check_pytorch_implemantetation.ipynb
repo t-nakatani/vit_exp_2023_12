{
 "cells": [
  {
   "cell_type": "code",
   "execution_count": null,
   "id": "c5e5281f-790d-4ef9-9c16-f28c1f2a2675",
   "metadata": {},
   "outputs": [],
   "source": [
    "    def forward(\n",
    "        self,\n",
    "        tgt: Tensor,\n",
    "        memory: Tensor,\n",
    "        tgt_mask: Optional[Tensor] = None,\n",
    "        memory_mask: Optional[Tensor] = None,\n",
    "        tgt_key_padding_mask: Optional[Tensor] = None,\n",
    "        memory_key_padding_mask: Optional[Tensor] = None,\n",
    "        tgt_is_causal: bool = False,\n",
    "        memory_is_causal: bool = False,\n",
    "    ) -> Tensor:\n",
    "\n",
    "        x = tgt\n",
    "        if self.norm_first:\n",
    "            x = x + self._sa_block(self.norm1(x), tgt_mask, tgt_key_padding_mask, tgt_is_causal)\n",
    "            x = x + self._mha_block(self.norm2(x), memory, memory_mask, memory_key_padding_mask, memory_is_causal)\n",
    "            x = x + self._ff_block(self.norm3(x))\n",
    "        else:\n",
    "            x = self.norm1(x + self._sa_block(x, tgt_mask, tgt_key_padding_mask, tgt_is_causal))\n",
    "            x = self.norm2(x + self._mha_block(x, memory, memory_mask, memory_key_padding_mask, memory_is_causal))\n",
    "            x = self.norm3(x + self._ff_block(x))\n",
    "\n",
    "        return x"
   ]
  },
  {
   "cell_type": "markdown",
   "id": "4e98440c-c838-4eb9-b78b-f98747fa7f63",
   "metadata": {},
   "source": [
    "* key_padding_mask: Trueが無視される。つまり自分の実装は正しい。\n",
    "* attn_mask: 同じく、Trueは無視される。\n",
    "    * 一番最後の行がなぜいるか分からない。全てのターゲットトークン(EOS含め)が見えるのはどういう状況？"
   ]
  },
  {
   "cell_type": "code",
   "execution_count": 3,
   "id": "22f43423-9266-4094-b238-7e2b0bce22eb",
   "metadata": {},
   "outputs": [
    {
     "data": {
      "text/plain": [
       "tensor([[False,  True,  True,  True,  True],\n",
       "        [False, False,  True,  True,  True],\n",
       "        [False, False, False,  True,  True],\n",
       "        [False, False, False, False,  True],\n",
       "        [False, False, False, False, False]])"
      ]
     },
     "execution_count": 3,
     "metadata": {},
     "output_type": "execute_result"
    }
   ],
   "source": [
    "import torch\n",
    "\n",
    "sz = 5\n",
    "torch.triu(torch.ones((sz, sz), dtype=bool), diagonal=1)"
   ]
  },
  {
   "cell_type": "code",
   "execution_count": 3,
   "id": "09287496-e9ac-44be-adba-2a9fae4ea3a7",
   "metadata": {},
   "outputs": [],
   "source": [
    "import torch\n",
    "from torch import nn"
   ]
  },
  {
   "cell_type": "code",
   "execution_count": 6,
   "id": "be51d078-98b1-4110-8d31-668b6d6d7be8",
   "metadata": {},
   "outputs": [
    {
     "data": {
      "text/plain": [
       "(tensor([[ 1.1366,  0.7714, -0.4227],\n",
       "         [ 1.5066, -0.7554, -0.3128]]),\n",
       " tensor([[0.5251, 0.3645, 0.1104],\n",
       "         [0.7897, 0.0822, 0.1280]]))"
      ]
     },
     "execution_count": 6,
     "metadata": {},
     "output_type": "execute_result"
    }
   ],
   "source": [
    "m = nn.Softmax(dim=1)\n",
    "input = torch.randn(2, 3)\n",
    "input, m(input)"
   ]
  },
  {
   "cell_type": "code",
   "execution_count": null,
   "id": "287e8cf9-4a73-42d6-ac66-0441cc48a5e2",
   "metadata": {},
   "outputs": [],
   "source": []
  }
 ],
 "metadata": {
  "kernelspec": {
   "display_name": "Python 3 (ipykernel)",
   "language": "python",
   "name": "python3"
  },
  "language_info": {
   "codemirror_mode": {
    "name": "ipython",
    "version": 3
   },
   "file_extension": ".py",
   "mimetype": "text/x-python",
   "name": "python",
   "nbconvert_exporter": "python",
   "pygments_lexer": "ipython3",
   "version": "3.10.13"
  }
 },
 "nbformat": 4,
 "nbformat_minor": 5
}
