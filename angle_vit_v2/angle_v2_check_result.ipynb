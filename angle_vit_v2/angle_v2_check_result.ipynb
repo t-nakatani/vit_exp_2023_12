{
 "cells": [
  {
   "cell_type": "markdown",
   "id": "577f55b0",
   "metadata": {},
   "source": [
    "## 変更点\n",
    "\n",
    "* exp2: coordを相対座標に"
   ]
  },
  {
   "cell_type": "markdown",
   "id": "658fd60c",
   "metadata": {},
   "source": [
    "## 実験メモ\n",
    "\n",
    "#### 12/26\n",
    "* augumentationをするために、逐次マスクからcoordsに変換した方がいい\n",
    "* 角度は、0と2piでズレがほとんどないのにlossが大きくなってしまうので、単位円上の座標が良さそう\n",
    "* embeddingが無理？ embeddingは有限通りの入力をd_model次元で表現するものだから、従うためには有限通りの座標に落とし込む必要がある。となるとやはり角度が有利か。\n",
    "* 座標でembeddingするには、どのパッチの上に乗っているかをidxで表して、それを埋め込むのが良さそう\n",
    "\n",
    "#### 12/28\n",
    "* ViTの実装ミスってた。アホすぎる"
   ]
  },
  {
   "cell_type": "markdown",
   "id": "524b19ed",
   "metadata": {},
   "source": [
    ">推論時は、Greedyアルゴリズムの場合、再帰的に最初の単語から最後の単語まで一つづつ予測していきます（コード）。具体的には最初の推論でBOS（文章の始まり）のみを含む文章をターゲットとして、2個目の単語を予測します。そして予測した単語を含めて再度モデルを実行し、３個目の単語を予測します。このときモデルはソースであるドイツ語の文章と１〜２個目の英単語から３個目を予測することになります。これを繰り返し、モデルがEOS（文章の終わり）を出力するまで繰り返します。何番目の単語を予測するかで文章の長さが変わるのでtgt_maskは文章の長さを同じになるように値を設定します。\n",
    "\n",
    "https://qiita.com/simayan/items/ea8bc5df150f7890d0e7"
   ]
  },
  {
   "cell_type": "code",
   "execution_count": 21,
   "id": "a383e796-dd8f-408b-9cd4-d40170bfa328",
   "metadata": {},
   "outputs": [],
   "source": [
    "exp_name = 'angle_v2_exp6'"
   ]
  },
  {
   "cell_type": "code",
   "execution_count": 22,
   "id": "3faac4d0-3c92-4cc5-918f-ec1f4537f711",
   "metadata": {},
   "outputs": [
    {
     "name": "stdout",
     "output_type": "stream",
     "text": [
      "Python 3.10.13\n",
      "2.1.2\n",
      "0.16.2\n",
      "0.3.3\n"
     ]
    },
    {
     "data": {
      "text/plain": [
       "(True, 8)"
      ]
     },
     "execution_count": 22,
     "metadata": {},
     "output_type": "execute_result"
    }
   ],
   "source": [
    "!python -V\n",
    "\n",
    "import torch\n",
    "import torch.nn as nn\n",
    "import torchvision\n",
    "import segmentation_models_pytorch\n",
    "\n",
    "\n",
    "print(f'{torch.__version__}')\n",
    "print(f'{torchvision.__version__}')\n",
    "print(f'{segmentation_models_pytorch.__version__}')\n",
    "\n",
    "torch.cuda.is_available(), torch.cuda.device_count()"
   ]
  },
  {
   "cell_type": "markdown",
   "id": "58264475",
   "metadata": {},
   "source": [
    "***\n",
    "## 本実装\n"
   ]
  },
  {
   "cell_type": "code",
   "execution_count": 23,
   "id": "ee3dc047",
   "metadata": {},
   "outputs": [],
   "source": [
    "import torchvision.models as models\n",
    "\n",
    "# vit_b_16モデル呼び出し\n",
    "model_vit = models.vit_b_16(weights=models.ViT_B_16_Weights.DEFAULT)\n",
    "\n",
    "# get_model()\n",
    "model_vit = models.get_model('vit_b_16', weights='DEFAULT')\n",
    "\n",
    "model_vit.heads = torch.nn.Identity()\n",
    "torch.save(model_vit.state_dict(), 'vit_b_224_16.pth')"
   ]
  },
  {
   "cell_type": "code",
   "execution_count": 24,
   "id": "4c456281",
   "metadata": {},
   "outputs": [],
   "source": [
    "import torch\n",
    "import torch.nn as nn\n",
    "import torch.nn.functional as F\n",
    "import torchvision.models as models\n",
    "\n",
    "\n",
    "class PositionalEncoding(nn.Module):\n",
    "    def __init__(self, d_model, dropout=0.1, max_len=5000):\n",
    "        super(PositionalEncoding, self).__init__()\n",
    "        self.dropout = nn.Dropout(p=dropout)\n",
    "\n",
    "        pe = torch.zeros(max_len, d_model)\n",
    "        position = torch.arange(0, max_len, dtype=torch.float).unsqueeze(1)\n",
    "        div_term = torch.exp(torch.arange(0, d_model, 2).float() * (-math.log(10000.0) / d_model))\n",
    "        pe[:, 0::2] = torch.sin(position * div_term)\n",
    "        pe[:, 1::2] = torch.cos(position * div_term)\n",
    "        pe = pe.unsqueeze(0).transpose(0, 1)\n",
    "        self.register_buffer('pe', pe)\n",
    "\n",
    "    def forward(self, x):\n",
    "        x = x + self.pe[:x.size(0), :]\n",
    "        return self.dropout(x)\n",
    "\n",
    "class CustomVisionTransformer(models.VisionTransformer):\n",
    "    def __init__(self, *args, **kwargs):\n",
    "        super(CustomVisionTransformer, self).__init__(*args, **kwargs)\n",
    "\n",
    "        self.heads = torch.nn.Identity()\n",
    "    \n",
    "    def forward(self, x: torch.Tensor):\n",
    "        # Reshape and permute the input tensor\n",
    "        x = self._process_input(x)\n",
    "        # print(f'_process_input: {x.shape=}')\n",
    "        n = x.shape[0]\n",
    "\n",
    "        # Expand the class token to the full batch\n",
    "        batch_class_token = self.class_token.expand(n, -1, -1)\n",
    "        x = torch.cat([batch_class_token, x], dim=1)\n",
    "\n",
    "        x = self.encoder(x)\n",
    "\n",
    "        # 次の部分は一旦コメントあるとする、NLPにおけるtransformerと整合性があると思っているが、要確認\n",
    "        # Classifier \"token\" as used by standard language architectures\n",
    "        # x = x[:, 0]\n",
    "        # print(f'return: {x.shape=}')\n",
    "        return x\n",
    "\n",
    "class CustomTransformerDecoderLayer(nn.Module):\n",
    "    def __init__(self, d_model, nhead, dim_feedforward=2048, dropout=0.1):\n",
    "        super(CustomTransformerDecoderLayer, self).__init__()\n",
    "#         print(d_model, nhead)\n",
    "        \n",
    "        self.self_attn = nn.MultiheadAttention(d_model, nhead, dropout=dropout, batch_first=True)\n",
    "        self.multihead_attn = nn.MultiheadAttention(d_model, nhead, dropout=dropout, batch_first=True)\n",
    "        \n",
    "        self.norm1 = nn.LayerNorm(d_model)\n",
    "        self.norm2 = nn.LayerNorm(d_model)\n",
    "        self.dropout = nn.Dropout(dropout)\n",
    "        \n",
    "        self.feed_forward = nn.Sequential(\n",
    "            nn.Linear(d_model, dim_feedforward),\n",
    "            nn.ReLU(),\n",
    "            nn.Dropout(dropout),\n",
    "            nn.Linear(dim_feedforward, d_model)\n",
    "        )\n",
    "\n",
    "    def forward(self, tgt, memory, tgt_mask=None, tgt_pad_mask=None):\n",
    "        \"\"\"\n",
    "        tgt: shape []\n",
    "        \"\"\"\n",
    "        # Self attention with residual connection\n",
    "        attn_output1, _ = self.self_attn(tgt, tgt, tgt, attn_mask=tgt_mask, key_padding_mask=tgt_pad_mask)\n",
    "        tgt = self.norm1(tgt + self.dropout(attn_output1))\n",
    "\n",
    "        # Cross attention with residual connection\n",
    "        attn_output2, attn_weights = self.multihead_attn(tgt, memory, memory)\n",
    "#         attn_output2, attn_weights = self.multihead_attn(tgt, memory, memory, key_padding_mask=tgt_pad_mask)\n",
    "        tgt = self.norm2(tgt + self.dropout(attn_output2))\n",
    "\n",
    "        # Feed forward with residual connection\n",
    "        ff_output = self.feed_forward(tgt)\n",
    "        tgt = tgt + self.dropout(ff_output)\n",
    "\n",
    "        return tgt\n",
    "\n",
    "class CustomTransformerDecoder(nn.Module):\n",
    "    def __init__(self, d_model, nhead, num_decoder_layers, target_vocab_size, pad_id=0):\n",
    "        super(CustomTransformerDecoder, self).__init__()\n",
    "\n",
    "        self.embedding = nn.Embedding(target_vocab_size, d_model)\n",
    "        self.pos_encoder = PositionalEncoding(d_model)\n",
    "        self.decoder_layers = nn.ModuleList([CustomTransformerDecoderLayer(d_model, nhead) for _ in range(num_decoder_layers)])\n",
    "        self.pad_id = pad_id\n",
    "\n",
    "    def get_attn_subsequent_mask(self, sz: int) -> torch.Tensor:\n",
    "        return torch.triu(torch.ones(sz, sz) * float('-inf'), diagonal=1)\n",
    "\n",
    "    def forward(self, tgt, memory):\n",
    "        tgt_pad_mask = (tgt == self.pad_id)\n",
    "        tgt = self.embedding(tgt) # tgt_after_embedding: [batch, target_len, d_model]\n",
    "        tgt = self.pos_encoder(tgt)\n",
    "        \n",
    "        # create masks, then pass to decoder\n",
    "        batch_size, target_len, d_model = tgt.shape\n",
    "        tgt_mask = self.get_attn_subsequent_mask(target_len)\n",
    "\n",
    "        tgt_mask = tgt_mask.to(tgt.device)\n",
    "\n",
    "        for i, layer in enumerate(self.decoder_layers):\n",
    "            tgt = layer(tgt, memory, tgt_mask=tgt_mask, tgt_pad_mask=tgt_pad_mask)\n",
    "\n",
    "        # [batch, target_len?, d_model]\n",
    "        return tgt\n",
    "\n",
    "class CoordsHead(nn.Module):\n",
    "    def __init__(self):\n",
    "        super(CoordsHead, self).__init__()\n",
    "\n",
    "class CoordsViT(nn.Module):\n",
    "    def __init__(self, image_size=224, patch_size=16, d_model=768, nhead=12, num_encoder_layers=12, num_decoder_layers=12, target_vocab_size=11, channels=3, out_channel=2):\n",
    "        super(CoordsViT, self).__init__()\n",
    "\n",
    "        # Encoder\n",
    "        self.encoder = CustomVisionTransformer(\n",
    "            image_size=image_size,\n",
    "            patch_size=patch_size,\n",
    "            num_layers=num_encoder_layers,\n",
    "            num_heads=nhead,\n",
    "            hidden_dim=d_model,\n",
    "            mlp_dim=3072\n",
    "        )\n",
    "        self.encoder.load_state_dict(torch.load('vit_b_224_16.pth'))\n",
    "\n",
    "        # Decoder\n",
    "        self.decoder = CustomTransformerDecoder(d_model, nhead, num_decoder_layers, target_vocab_size)\n",
    "\n",
    "        # Coords Head\n",
    "        self.coords_heads = nn.Linear(d_model, out_channel)\n",
    "\n",
    "    def forward(self, img, tgt):\n",
    "        \"\"\"\n",
    "        tgt: [batch, target_len]\n",
    "        \"\"\"\n",
    "        # Encode image\n",
    "        encoder_output = self.encoder(img) # encoder_output: torch.Size([seq_len, batch, d_model])\n",
    "        # print(f'encoder_output: {encoder_output.shape}')\n",
    "\n",
    "        # Decode to get the target sequence\n",
    "        tgt_out = self.decoder(tgt, encoder_output)  # tgt_out: [batch, target_len?, d_model]\n",
    "\n",
    "        output = self.coords_heads(tgt_out)  # output: [batch, target_len?, 2], yx coords is 2d\n",
    "        return output\n"
   ]
  },
  {
   "cell_type": "code",
   "execution_count": 25,
   "id": "b4e10f26",
   "metadata": {},
   "outputs": [],
   "source": [
    "import os\n",
    "import numpy as np\n",
    "\n",
    "from torch.utils.data import Dataset, DataLoader\n",
    "from torchvision import transforms\n",
    "from PIL import Image\n",
    "from glob import glob\n",
    "\n",
    "image_size = 224\n",
    "\n",
    "class OneHotTensorEncode(object):\n",
    "    def __init__(self, n_classes=10):\n",
    "        self.n_classes = n_classes\n",
    "\n",
    "    def __call__(self, mask, debug=False):\n",
    "        \"\"\"\n",
    "        Convert a 1-channel grayscale PIL image with n_classes unique values \n",
    "        into an n_classes-channel one-hot encoded tensor.\n",
    "        \"\"\"\n",
    "\n",
    "        mask = np.array(mask)\n",
    "        one_hot = torch.zeros(self.n_classes, mask.shape[0], mask.shape[1], dtype=torch.float32)\n",
    "        for i in range(self.n_classes):\n",
    "            one_hot[i, :, :] = torch.tensor(mask == i, dtype=torch.float32)\n",
    "            if debug:\n",
    "                count = np.sum(mask == i)\n",
    "                print(f\"Number of pixels with value {i}: {count}\")\n",
    "            \n",
    "                plt.imshow(one_hot[i, :, :].numpy(), cmap='gray')\n",
    "                plt.title(f\"Class {i} One-hot Encoded Channel\")\n",
    "                plt.colorbar()\n",
    "                plt.show()\n",
    "        return one_hot\n",
    "\n",
    "class RandomTransformsDual:\n",
    "    \"\"\"\n",
    "    画像とマスクの両方にランダム変換を適用するクラス\n",
    "    \"\"\"\n",
    "    def __init__(self, transforms):\n",
    "        self.transforms = transforms\n",
    "\n",
    "    def __call__(self, img, mask):\n",
    "        seed = np.random.randint(2147483647)  # 大きな数でランダムシードを設定\n",
    "        np.random.seed(seed)  # 同じシードを使用して、画像とマスクの両方に同じ変換を確実に適用する\n",
    "\n",
    "        for t in self.transforms:\n",
    "            img = t(img)\n",
    "\n",
    "        np.random.seed(seed)\n",
    "        for t in self.transforms:\n",
    "            mask = t(mask)\n",
    "\n",
    "        return img, mask\n",
    "    \n",
    "def custom_crop(image, trim_margin=180):\n",
    "    return image.crop((trim_margin, trim_margin, image.width - trim_margin, image.height - trim_margin))\n",
    "\n",
    "def channelize(mask_array, n_classes=10):\n",
    "    mask_10d = torch.zeros(n_classes, mask_array.shape[0], mask_array.shape[1], dtype=torch.float32)\n",
    "    for i in range(n_classes): \n",
    "        mask_10d[i, :, :] = torch.tensor(mask == i, dtype=torch.float32)\n",
    "    return mask_10d\n",
    "\n",
    "def get_center_array(mask_10d, coord_filter, relative=False):\n",
    "    coords = []\n",
    "    for mask_i in mask_10d[1:]:\n",
    "        if int(mask_i.sum()) == 0:\n",
    "            coords.append([0, 0])\n",
    "            continue\n",
    "        center_yx = [int((mask_i * coord_filter[:, :, 0]).sum() / mask_i.sum()), int((mask_i * coord_filter[:, :, 1]).sum() / mask_i.sum())]\n",
    "        if relative:\n",
    "            center_yx[0] /= mask_i.shape[0]\n",
    "            center_yx[1] /= mask_i.shape[1]\n",
    "        coords.append(center_yx)\n",
    "    assert len(coords) == len(mask_10d) - 1, 'dim incorrect'\n",
    "    return torch.Tensor(coords)\n",
    "\n",
    "def get_sin_cos(coords):\n",
    "    deviations = coords - coords[coords != 0].reshape(-1, 2).mean(axis=0)\n",
    "    norms = np.linalg.norm(deviations, axis=1)\n",
    "    norms += 0.00001\n",
    "    sin_cos = np.array([deviations.T[i] / norms for i in range(2)]).T\n",
    "    sin_cos[coords == 0] = 0\n",
    "    return sin_cos\n",
    "\n",
    "class SegmentationDataset(Dataset):\n",
    "    def __init__(self, image_glob_path, image_size, image_transforms=None, mask_transforms=None, random_transforms=None):\n",
    "        self.image_glob_path = image_glob_path\n",
    "        self.image_transforms = image_transforms\n",
    "        self.mask_transforms = mask_transforms\n",
    "        self.random_transforms = random_transforms\n",
    "        self.image_paths = sorted(glob(image_glob_path))\n",
    "        self.coord_filter = np.array([[(i, j) for j in range(image_size)] for i in range(image_size)])\n",
    "\n",
    "    def __len__(self):\n",
    "        return len(self.image_paths)\n",
    "\n",
    "    def __getitem__(self, index):\n",
    "        image_path = self.image_paths[index]\n",
    "        mask_path = image_path.replace('/flw/', '/mask/')\n",
    "        image = Image.open(image_path).convert(\"RGB\")\n",
    "        mask = Image.open(mask_path).convert(\"L\")\n",
    "\n",
    "        if self.random_transforms:\n",
    "            image, mask = self.random_transforms(image, mask)\n",
    "\n",
    "        if self.image_transforms:\n",
    "            image = self.image_transforms(image)\n",
    "\n",
    "        if self.mask_transforms:\n",
    "            mask = self.mask_transforms(mask)\n",
    "            coords = get_center_array(mask, self.coord_filter)\n",
    "            sin_cos = get_sin_cos(coords)\n",
    "\n",
    "        return image, coords, sin_cos\n",
    "\n",
    "random_transforms = RandomTransformsDual([\n",
    "    transforms.RandomHorizontalFlip(),\n",
    "    transforms.RandomRotation(180)  # ±180度のランダムな回転\n",
    "])\n",
    "\n",
    "image_transforms = transforms.Compose([\n",
    "    transforms.Lambda(custom_crop),\n",
    "    transforms.Resize((image_size, image_size)),\n",
    "    transforms.ToTensor(),\n",
    "    transforms.Normalize(mean=[0.485, 0.456, 0.406], std=[0.229, 0.224, 0.225])\n",
    "])\n",
    "\n",
    "mask_transforms = transforms.Compose([\n",
    "    transforms.Lambda(custom_crop),\n",
    "    transforms.Resize((image_size, image_size)),\n",
    "    OneHotTensorEncode(n_classes=10),\n",
    "])\n",
    "\n",
    "flw_glob_path = '../../../../create_synthe_2023/synthetic_flw/flw/*/*'\n",
    "\n",
    "# image_glob_path, mask_glob_path, image_transforms=None, mask_transforms=None, random_transforms=None):\n",
    "dataset = SegmentationDataset(flw_glob_path, image_size, image_transforms=image_transforms, mask_transforms=mask_transforms)\n",
    "dataset_size = len(dataset)\n",
    "\n",
    "train_ratio = 0.7\n",
    "val_ratio = 0.3\n",
    "\n",
    "train_size = int(train_ratio * dataset_size)\n",
    "val_size = int(val_ratio * dataset_size)\n",
    "# test_size = dataset_size - train_size - val_size\n",
    "\n",
    "train_dataset, val_dataset = torch.utils.data.random_split(dataset, [train_size, val_size], generator=torch.Generator().manual_seed(42))\n",
    "# train_dataset, val_dataset, test_dataset = torch.utils.data.random_split(dataset, [train_size, val_size, test_size])\n",
    "\n",
    "# データローダーの作成\n",
    "batch_size = 32\n",
    "num_workers = 48\n",
    "train_dataloader = DataLoader(train_dataset, batch_size=batch_size, shuffle=True, num_workers=num_workers, pin_memory=True)\n",
    "val_dataloader = DataLoader(val_dataset, batch_size=batch_size, shuffle=False, num_workers=num_workers, pin_memory=True)\n",
    "# test_dataloader = DataLoader(test_dataset, batch_size=batch_size, shuffle=False)\n"
   ]
  },
  {
   "cell_type": "code",
   "execution_count": 26,
   "id": "c794af33",
   "metadata": {},
   "outputs": [
    {
     "name": "stderr",
     "output_type": "stream",
     "text": [
      "/opt/conda/lib/python3.10/site-packages/torch/nn/functional.py:5076: UserWarning: Support for mismatched key_padding_mask and attn_mask is deprecated. Use same type for both instead.\n",
      "  warnings.warn(\n"
     ]
    },
    {
     "name": "stdout",
     "output_type": "stream",
     "text": [
      "target_seq.shape: torch.Size([32, 9])\n",
      "output.shape: torch.Size([32, 9, 2])\n"
     ]
    }
   ],
   "source": [
    "import math\n",
    "import torch\n",
    "import torch.nn as nn\n",
    "\n",
    "from tqdm import tqdm\n",
    "import segmentation_models_pytorch.utils as smp_utils\n",
    "\n",
    "patch_size = 16\n",
    "num_patch_1d = (image_size // patch_size)\n",
    "indexer_1d = np.array([num_patch_1d, 1])\n",
    "\n",
    "d_model = 256\n",
    "nhead = 8\n",
    "num_encoder_layers = 3\n",
    "num_decoder_layers = 3\n",
    "target_vocab_size = num_patch_1d ** 2 # patchの数を語彙数とする\n",
    "# len_out_seq = 9\n",
    "\n",
    "model = CoordsViT(target_vocab_size=target_vocab_size)\n",
    "\n",
    "for i, (images, coords, sin_cos) in enumerate(train_dataloader):\n",
    "    coords_idx_2d = coords // num_patch_1d\n",
    "    coords_idx_1d = coords_idx_2d @ indexer_1d\n",
    "    target_seq = coords_idx_1d.long()\n",
    "    break\n",
    "\n",
    "output = model(images, target_seq)\n",
    "\n",
    "print(f'target_seq.shape: {target_seq.shape}')\n",
    "print(f'output.shape: {output.shape}')"
   ]
  },
  {
   "cell_type": "code",
   "execution_count": 27,
   "id": "4b8a01bb-ccd9-4fb5-9089-e4d6c3cef9ea",
   "metadata": {},
   "outputs": [
    {
     "name": "stderr",
     "output_type": "stream",
     "text": [
      "Clipping input data to the valid range for imshow with RGB data ([0..1] for floats or [0..255] for integers).\n"
     ]
    },
    {
     "data": {
      "image/png": "[encoded data removed]",
      "text/plain": [
       "<Figure size 640x480 with 1 Axes>"
      ]
     },
     "metadata": {},
     "output_type": "display_data"
    }
   ],
   "source": [
    "import matplotlib.pyplot as plt\n",
    "\n",
    "plt.imshow(torch.permute(images[0], (1, 2, 0)))\n",
    "plt.show()"
   ]
  },
  {
   "cell_type": "code",
   "execution_count": 28,
   "id": "93f0fff5-6a31-460d-944c-a3b07e1264c6",
   "metadata": {},
   "outputs": [
    {
     "data": {
      "text/plain": [
       "tensor([[-0.9989, -0.0471],\n",
       "        [ 0.9888, -0.1491],\n",
       "        [-0.1028,  0.9947],\n",
       "        [-0.3816, -0.9243],\n",
       "        [ 0.9971, -0.0767],\n",
       "        [-0.8192,  0.5735],\n",
       "        [ 0.6407, -0.7678],\n",
       "        [ 0.6621,  0.7494],\n",
       "        [-0.6612, -0.7502]])"
      ]
     },
     "execution_count": 28,
     "metadata": {},
     "output_type": "execute_result"
    }
   ],
   "source": [
    "sin_cos[0]"
   ]
  },
  {
   "cell_type": "code",
   "execution_count": 29,
   "id": "7fc7f978-7353-4e09-abd5-22f9fafc52ee",
   "metadata": {},
   "outputs": [
    {
     "data": {
      "text/plain": [
       "tensor([[ 0.4857,  0.0223],\n",
       "        [ 0.0611,  0.9017],\n",
       "        [ 0.0805,  0.1727],\n",
       "        [ 0.2240,  0.3657],\n",
       "        [ 0.7550, -0.0578],\n",
       "        [-0.2305,  0.1609],\n",
       "        [ 0.4830,  0.0030],\n",
       "        [ 0.4334, -0.1360],\n",
       "        [ 0.2371,  0.7999]], grad_fn=<SelectBackward0>)"
      ]
     },
     "execution_count": 29,
     "metadata": {},
     "output_type": "execute_result"
    }
   ],
   "source": [
    "output[0]"
   ]
  },
  {
   "cell_type": "code",
   "execution_count": 43,
   "id": "cd9202aa-3f62-45f2-b61c-c10c9fb129e1",
   "metadata": {
    "scrolled": true
   },
   "outputs": [
    {
     "name": "stdout",
     "output_type": "stream",
     "text": [
      "\n",
      " tensor([[ 0.4857,  0.0223],\n",
      "        [ 0.0611,  0.9017],\n",
      "        [ 0.0805,  0.1727],\n",
      "        [ 0.2240,  0.3657],\n",
      "        [ 0.7550, -0.0578],\n",
      "        [-0.2305,  0.1609],\n",
      "        [ 0.4830,  0.0030],\n",
      "        [ 0.4334, -0.1360],\n",
      "        [ 0.2371,  0.7999]], grad_fn=<SelectBackward0>)\n",
      "tensor([[-0.9989, -0.0471],\n",
      "        [ 0.9888, -0.1491],\n",
      "        [-0.1028,  0.9947],\n",
      "        [-0.3816, -0.9243],\n",
      "        [ 0.9971, -0.0767],\n",
      "        [-0.8192,  0.5735],\n",
      "        [ 0.6407, -0.7678],\n",
      "        [ 0.6621,  0.7494],\n",
      "        [-0.6612, -0.7502]]) \n",
      "\n"
     ]
    }
   ],
   "source": [
    "for i in range(batch_size):\n",
    "    print('\\n', (output[i]))\n",
    "    print((sin_cos[i]), '\\n')\n",
    "    break"
   ]
  },
  {
   "cell_type": "code",
   "execution_count": 42,
   "id": "d63f8b90-d9e6-40e3-8c93-cf90f26bdbfc",
   "metadata": {
    "scrolled": true
   },
   "outputs": [
    {
     "name": "stdout",
     "output_type": "stream",
     "text": [
      "\n",
      " tensor([ 1.5248,  0.0677,  0.4363,  0.5497,  1.6472, -0.9614,  1.5646,  1.8750,\n",
      "         0.2882], grad_fn=<Atan2Backward0>)\n",
      "tensor([-1.6179,  1.7205, -0.1030, -2.7500,  1.6476, -0.9601,  2.4462,  0.7236,\n",
      "        -2.4192]) \n",
      "\n",
      "\n",
      " tensor([0.1934, 1.3169, 1.3073, 0.3440, 1.1236, 0.4881, 2.0363, 0.3328, 1.2679],\n",
      "       grad_fn=<Atan2Backward0>)\n",
      "tensor([-1.5652,  2.6834,  1.1869, -0.0918, -2.0413,  2.1390,  0.5353, -0.7787,\n",
      "        -2.8462]) \n",
      "\n",
      "\n",
      " tensor([ 0.9425, -0.0962, -2.6392,  1.8736,  1.6311,  0.2968,  1.9782, -0.2520,\n",
      "         1.6102], grad_fn=<Atan2Backward0>)\n",
      "tensor([-1.6903,  2.6194,  1.0851, -0.3568, -2.2223,  1.8226,  0.4584, -0.9066,\n",
      "        -3.1137]) \n",
      "\n",
      "\n",
      " tensor([ 1.7407,  2.5460, -2.4487,  2.5735,  2.1161, -2.9873,  0.7034, -2.6688,\n",
      "        -2.5787], grad_fn=<Atan2Backward0>)\n",
      "tensor([-1.6631, -2.8755,  1.6589,  0.1164, -2.3341,  2.2623,  0.8730, -0.7369,\n",
      "         0.0000]) \n",
      "\n",
      "\n",
      " tensor([ 1.0814,  1.2154,  2.1835,  1.6223,  1.4818,  1.0595,  1.6659, -0.0829,\n",
      "         1.5210], grad_fn=<Atan2Backward0>)\n",
      "tensor([-1.4935,  2.6763,  0.5134, -2.8368,  1.5265, -0.5917,  0.0000,  0.0000,\n",
      "         0.0000]) \n",
      "\n",
      "\n",
      " tensor([ 1.3440,  0.5049,  0.2035,  0.1711,  0.0123,  1.6964,  0.9634, -2.5728,\n",
      "        -2.0359], grad_fn=<Atan2Backward0>)\n",
      "tensor([-1.4526,  2.8212,  1.1384, -0.8646, -2.6099,  1.8469,  0.1435,  0.0000,\n",
      "         0.0000]) \n",
      "\n",
      "\n",
      " tensor([-1.8276, -2.1977, -2.0940, -3.0797,  2.8826,  2.8816, -2.8719, -3.0943,\n",
      "        -2.6400], grad_fn=<Atan2Backward0>)\n",
      "tensor([-1.4767,  2.6698,  0.6952, -2.6336,  1.5657, -0.4990,  0.0000,  0.0000,\n",
      "         0.0000]) \n",
      "\n",
      "\n",
      " tensor([ 1.5066,  0.3019,  1.6522, -0.0261,  1.4776,  0.0865,  0.1071,  0.7081,\n",
      "         1.3654], grad_fn=<Atan2Backward0>)\n",
      "tensor([-1.3746,  2.3518, -0.3239, -2.8455,  1.1228,  0.0000,  0.0000,  0.0000,\n",
      "         0.0000]) \n",
      "\n",
      "\n",
      " tensor([-1.6803, -2.2966, -1.9656,  2.7249, -2.9691,  0.1328, -2.7330, -2.4258,\n",
      "        -2.2995], grad_fn=<Atan2Backward0>)\n",
      "tensor([-1.5254,  2.2149,  0.3471, -2.1991,  1.1853, -0.6427,  2.9139,  0.0000,\n",
      "         0.0000]) \n",
      "\n",
      "\n",
      " tensor([-2.7018,  2.7319, -1.7247, -1.9241,  2.8207, -1.6861, -1.4551, -1.6799,\n",
      "        -0.9307], grad_fn=<Atan2Backward0>)\n",
      "tensor([-1.4835,  2.2974, -0.2436, -2.6688,  1.1424,  0.0000,  0.0000,  0.0000,\n",
      "         0.0000]) \n",
      "\n",
      "\n",
      " tensor([-1.3569, -2.3528, -2.8144, -2.8921,  1.9316, -1.1407, -1.4038, -1.8537,\n",
      "        -0.9571], grad_fn=<Atan2Backward0>)\n",
      "tensor([-1.5445,  1.7161,  0.0270, -3.0172,  0.0000,  0.0000,  0.0000,  0.0000,\n",
      "         0.0000]) \n",
      "\n",
      "\n",
      " tensor([-2.6788, -0.8167, -0.4184, -2.3112, -0.6910, -0.3697, -0.0925,  0.9333,\n",
      "        -0.0239], grad_fn=<Atan2Backward0>)\n",
      "tensor([-1.4355, -3.0565,  1.6567, -0.0237, -2.3741,  2.3953,  0.9069, -0.5935,\n",
      "         0.0000]) \n",
      "\n",
      "\n",
      " tensor([ 0.7972,  1.6193,  1.2835,  0.3421,  0.1779, -0.8744, -1.9149, -1.0381,\n",
      "         0.2849], grad_fn=<Atan2Backward0>)\n",
      "tensor([-1.4904, -3.0605,  1.4679,  0.0530,  0.0000,  0.0000,  0.0000,  0.0000,\n",
      "         0.0000]) \n",
      "\n",
      "\n",
      " tensor([-0.3443, -1.1221,  0.4742, -1.1042, -0.2378,  0.0421, -0.3041, -1.2001,\n",
      "        -1.7774], grad_fn=<Atan2Backward0>)\n",
      "tensor([-1.7165,  1.9817,  0.0562, -2.4203,  0.9849, -0.8386,  2.6845,  0.0000,\n",
      "         0.0000]) \n",
      "\n",
      "\n",
      " tensor([-1.9421,  2.6816, -1.3148, -0.5083,  3.0836,  2.5639, -2.3676,  2.3786,\n",
      "        -2.2020], grad_fn=<Atan2Backward0>)\n",
      "tensor([-1.6217,  3.0687,  1.4171, -0.1323, -2.6411,  2.0236,  0.4425, -1.1386,\n",
      "         0.0000]) \n",
      "\n",
      "\n",
      " tensor([ 2.1500,  2.5719, -2.4843,  3.0930, -2.2037, -2.5543, -3.0632, -2.7554,\n",
      "         3.0500], grad_fn=<Atan2Backward0>)\n",
      "tensor([-1.7066,  1.4705, -0.0801, -3.0018,  0.0000,  0.0000,  0.0000,  0.0000,\n",
      "         0.0000]) \n",
      "\n",
      "\n",
      " tensor([ 2.6851, -2.6615, -2.7449,  0.7761,  1.5404, -0.5879,  1.5877, -2.5174,\n",
      "         2.1303], grad_fn=<Atan2Backward0>)\n",
      "tensor([-1.7112,  2.0372, -0.1312, -2.8007,  0.8268, -0.7605,  2.8477,  0.4842,\n",
      "        -2.2464]) \n",
      "\n",
      "\n",
      " tensor([ 2.3256,  0.3973, -0.7405, -2.1453, -2.2820, -2.7648, -1.0565, -1.9327,\n",
      "        -2.4949], grad_fn=<Atan2Backward0>)\n",
      "tensor([-1.7156,  2.4518,  0.2999, -2.6422,  1.5585, -0.4907,  0.0000,  0.0000,\n",
      "         0.0000]) \n",
      "\n",
      "\n",
      " tensor([ 2.5713,  2.1829, -1.9712,  2.9558,  1.6183, -2.5668,  0.0132,  1.8096,\n",
      "         2.3753], grad_fn=<Atan2Backward0>)\n",
      "tensor([-1.5504,  3.1305,  1.6794,  0.2104, -2.4162,  2.3858,  0.6855, -0.6684,\n",
      "         0.0000]) \n",
      "\n",
      "\n",
      " tensor([-1.3325, -1.2908,  0.5367, -1.7115, -0.8103, -1.8060, -0.7521, -1.1493,\n",
      "        -1.2986], grad_fn=<Atan2Backward0>)\n",
      "tensor([-1.6779,  2.3598, -0.3995, -2.8344,  0.9340,  0.0000,  0.0000,  0.0000,\n",
      "         0.0000]) \n",
      "\n",
      "\n",
      " tensor([ 2.5938,  2.0237,  0.3804,  1.0146,  1.3670,  2.1537,  1.3472, -0.2203,\n",
      "         1.2802], grad_fn=<Atan2Backward0>)\n",
      "tensor([-1.6276,  2.2345, -0.3350, -2.8645,  1.0016,  0.0000,  0.0000,  0.0000,\n",
      "         0.0000]) \n",
      "\n",
      "\n",
      " tensor([1.2609, 1.4166, 1.4735, 0.8907, 0.7082, 0.7844, 0.5250, 0.7605, 0.1611],\n",
      "       grad_fn=<Atan2Backward0>)\n",
      "tensor([-1.4893, -2.8514,  1.5223,  0.1989,  0.0000,  0.0000,  0.0000,  0.0000,\n",
      "         0.0000]) \n",
      "\n",
      "\n",
      " tensor([0.8583, 0.8046, 0.5469, 0.6403, 0.9998, 0.2985, 0.8711, 0.4454, 0.6196],\n",
      "       grad_fn=<Atan2Backward0>)\n",
      "tensor([-1.4389,  2.6237,  0.6190, -2.6263,  1.4790, -0.3985,  0.0000,  0.0000,\n",
      "         0.0000]) \n",
      "\n",
      "\n",
      " tensor([-0.9914,  1.9135, -1.5526, -1.8444,  1.1852, -1.0652, -1.2979,  1.1795,\n",
      "        -1.1466], grad_fn=<Atan2Backward0>)\n",
      "tensor([-1.8000,  3.1317,  1.4400, -0.0970, -2.2019,  2.3821,  0.8335, -0.5740,\n",
      "         0.0000]) \n",
      "\n",
      "\n",
      " tensor([-3.0256, -1.2823, -2.4773, -1.4181, -0.1156, -1.3681, -1.0279, -2.0393,\n",
      "        -2.1796], grad_fn=<Atan2Backward0>)\n",
      "tensor([-1.5508,  2.4049, -0.2268, -2.9860,  0.6474,  0.0000,  0.0000,  0.0000,\n",
      "         0.0000]) \n",
      "\n",
      "\n",
      " tensor([ 0.0686, -0.1812, -1.0742, -0.8081, -0.5075, -0.2482, -0.9568,  0.1744,\n",
      "         0.0070], grad_fn=<Atan2Backward0>)\n",
      "tensor([-1.7433,  3.0841,  1.5637,  0.0000, -2.2547,  2.4782,  0.7322, -0.6588,\n",
      "         0.0000]) \n",
      "\n",
      "\n",
      " tensor([-1.5193,  0.2994, -1.6081,  0.8045,  0.1824, -0.9010, -0.5956, -0.6376,\n",
      "        -1.4948], grad_fn=<Atan2Backward0>)\n",
      "tensor([-1.6936,  1.6187, -0.1466,  2.9024,  0.0000,  0.0000,  0.0000,  0.0000,\n",
      "         0.0000]) \n",
      "\n",
      "\n",
      " tensor([ 1.8089,  0.2450,  0.4230,  1.4128,  1.3333,  0.1070, -2.9536,  0.3627,\n",
      "        -0.2735], grad_fn=<Atan2Backward0>)\n",
      "tensor([-1.3789,  1.7448,  0.0350, -2.9252,  0.0000,  0.0000,  0.0000,  0.0000,\n",
      "         0.0000]) \n",
      "\n",
      "\n",
      " tensor([2.4191, 1.8397, 2.3234, 2.3184, 2.4070, 2.3578, 1.7466, 2.7420, 1.7825],\n",
      "       grad_fn=<Atan2Backward0>)\n",
      "tensor([-1.4996,  3.0990,  1.6590, -0.0177, -2.3754,  2.0853,  0.9255, -0.7024,\n",
      "         0.0000]) \n",
      "\n",
      "\n",
      " tensor([-0.4472,  0.8221,  0.4148,  0.6210,  2.0000,  0.4879,  0.6097,  0.3203,\n",
      "         0.2559], grad_fn=<Atan2Backward0>)\n",
      "tensor([-1.7147,  2.5116,  0.5509, -2.7229,  1.5934, -0.5474,  0.0000,  0.0000,\n",
      "         0.0000]) \n",
      "\n",
      "\n",
      " tensor([ 0.2309,  3.0844,  2.2289,  2.7038, -2.9694, -0.4238, -0.5988, -0.1213,\n",
      "         0.7674], grad_fn=<Atan2Backward0>)\n",
      "tensor([-1.5553,  2.1757,  1.0360, -0.2973, -2.7064,  0.0000,  0.0000,  0.0000,\n",
      "         0.0000]) \n",
      "\n",
      "\n",
      " tensor([ 3.0651,  0.8168,  2.7342,  2.9613,  0.1881,  2.4165, -1.7209, -3.1106,\n",
      "         2.3985], grad_fn=<Atan2Backward0>)\n",
      "tensor([-1.6705,  3.1016,  1.4344, -0.0624,  0.0000,  0.0000,  0.0000,  0.0000,\n",
      "         0.0000]) \n",
      "\n"
     ]
    }
   ],
   "source": [
    "for i in range(batch_size):\n",
    "    print('\\n', torch.atan2(output[i][:, 0], output[i][:, 1]))\n",
    "    print(torch.atan2(sin_cos[i][:, 0], sin_cos[i][:, 1]), '\\n')"
   ]
  },
  {
   "cell_type": "code",
   "execution_count": 33,
   "id": "d5fb3b27-b9d6-4c42-9c3e-026736f3d1c8",
   "metadata": {},
   "outputs": [
    {
     "name": "stdout",
     "output_type": "stream",
     "text": [
      "tensor([-1.6179,  1.7205, -0.1030, -2.7500,  1.6476, -0.9601,  2.4462,  0.7236,\n",
      "        -2.4192])\n"
     ]
    }
   ],
   "source": []
  },
  {
   "cell_type": "code",
   "execution_count": null,
   "id": "0d48e16b",
   "metadata": {},
   "outputs": [
    {
     "name": "stderr",
     "output_type": "stream",
     "text": [
      "Epoch 1/200, Train:  33%|███▎      | 3637/10938 [19:51<38:07,  3.19it/s, Train Loss=0.281]  "
     ]
    }
   ],
   "source": [
    "# device = torch.device(\"cpu\")\n",
    "device = torch.device(\"cuda:0\" if torch.cuda.is_available() else \"cpu\")\n",
    "model.to(device)\n",
    "\n",
    "criterion = nn.MSELoss().to(device)\n",
    "optimizer = torch.optim.Adam(model.parameters(), lr=0.0005)\n",
    "\n",
    "num_epochs = 200\n",
    "for epoch in range(num_epochs):\n",
    "    model.train()\n",
    "    save_path = f'./models/{exp_name}_epoch{epoch + 1}.pth'\n",
    "    if os.path.exists(save_path):\n",
    "        model.load_state_dict(torch.load(save_path))\n",
    "        continue\n",
    "    with tqdm(total=len(train_dataloader), desc=f\"Epoch {epoch + 1}/{num_epochs}, Train\") as pbar_train:\n",
    "        for i, (images, coords, sin_cos) in enumerate(train_dataloader):\n",
    "            images = images.to(device)\n",
    "            coords_idx_2d = coords // num_patch_1d\n",
    "            coords_idx_1d = coords_idx_2d @ indexer_1d\n",
    "            target_seq = coords_idx_1d.long().to(device)\n",
    "\n",
    "            output = model(images, target_seq)\n",
    "            loss = criterion(output, sin_cos.to(device))\n",
    "\n",
    "            optimizer.zero_grad()\n",
    "            loss.backward()\n",
    "            optimizer.step()\n",
    "\n",
    "            pbar_train.set_postfix({\"Train Loss\": loss.item()})\n",
    "            pbar_train.update(1)\n",
    "\n",
    "    torch.save(model.state_dict(), save_path)\n",
    "\n",
    "    model.eval()\n",
    "    with torch.no_grad():\n",
    "        with tqdm(total=len(val_dataloader), desc=f\"Epoch {epoch + 1} / {num_epochs}, Val\") as pbar_val:\n",
    "            for i, (images, coords, sin_cos) in enumerate(val_dataloader):\n",
    "                images = images.to(device)\n",
    "                coords_idx_2d = coords // num_patch_1d\n",
    "                coords_idx_1d = coords_idx_2d @ indexer_1d\n",
    "                target_seq = coords_idx_1d.long().to(device)\n",
    "    \n",
    "                output = model(images, target_seq)\n",
    "                loss = criterion(output, sin_cos.to(device))\n",
    "    \n",
    "                pbar_val.set_postfix({\"Val Loss\": loss.item()})\n",
    "                pbar_val.update(1)\n"
   ]
  },
  {
   "cell_type": "markdown",
   "id": "44833010-e93f-4b5e-abb4-b6f3cba44db4",
   "metadata": {},
   "source": [
    "***"
   ]
  },
  {
   "cell_type": "markdown",
   "id": "0a583b56-8fbc-4c9f-82be-cb3f22445010",
   "metadata": {},
   "source": [
    "## 諸々の確認"
   ]
  },
  {
   "cell_type": "code",
   "execution_count": 11,
   "id": "2ef3bd6c-dfb4-42e0-8c68-3eaa4bf0ff52",
   "metadata": {},
   "outputs": [
    {
     "name": "stdout",
     "output_type": "stream",
     "text": [
      "output.shape=torch.Size([16, 9, 2])\n"
     ]
    }
   ],
   "source": [
    "print(f'{output.shape=}')"
   ]
  },
  {
   "cell_type": "code",
   "execution_count": 9,
   "id": "833c1649-ed84-4eb8-89e3-f693fc270fe9",
   "metadata": {},
   "outputs": [
    {
     "data": {
      "text/plain": [
       "torch.Size([16, 9, 2])"
      ]
     },
     "execution_count": 9,
     "metadata": {},
     "output_type": "execute_result"
    }
   ],
   "source": [
    "print(f'{output.shape=}')"
   ]
  },
  {
   "cell_type": "code",
   "execution_count": 12,
   "id": "8fbeab6d-8220-43f1-b47a-4ae1185ffb1c",
   "metadata": {},
   "outputs": [
    {
     "data": {
      "text/plain": [
       "tensor([[ 0.0005, -0.0038],\n",
       "        [ 0.0005, -0.0038],\n",
       "        [ 0.0005, -0.0038],\n",
       "        [ 0.0005, -0.0038],\n",
       "        [ 0.0005, -0.0038],\n",
       "        [ 0.0005, -0.0038],\n",
       "        [ 0.0005, -0.0038],\n",
       "        [ 0.0005, -0.0038],\n",
       "        [ 0.0005, -0.0038]], device='cuda:0', grad_fn=<SelectBackward0>)"
      ]
     },
     "execution_count": 12,
     "metadata": {},
     "output_type": "execute_result"
    }
   ],
   "source": [
    "output[0]"
   ]
  },
  {
   "cell_type": "code",
   "execution_count": 13,
   "id": "bc847b6b-0bfb-4234-b3c3-e36daa98c1a4",
   "metadata": {},
   "outputs": [
    {
     "data": {
      "text/plain": [
       "tensor([[-0.9960,  0.0897],\n",
       "        [-0.1261, -0.9920],\n",
       "        [ 0.9999,  0.0171],\n",
       "        [ 0.0846,  0.9964],\n",
       "        [ 0.0000,  0.0000],\n",
       "        [ 0.0000,  0.0000],\n",
       "        [ 0.0000,  0.0000],\n",
       "        [ 0.0000,  0.0000],\n",
       "        [ 0.0000,  0.0000]])"
      ]
     },
     "execution_count": 13,
     "metadata": {},
     "output_type": "execute_result"
    }
   ],
   "source": [
    "sin_cos[0]"
   ]
  },
  {
   "cell_type": "code",
   "execution_count": 17,
   "id": "3df5e4a9-254b-42c7-a8bb-503b66c31d80",
   "metadata": {},
   "outputs": [
    {
     "data": {
      "text/plain": [
       "tensor([[0., -inf, -inf, -inf, -inf, -inf, -inf, -inf, -inf, -inf],\n",
       "        [0., 0., -inf, -inf, -inf, -inf, -inf, -inf, -inf, -inf],\n",
       "        [0., 0., 0., -inf, -inf, -inf, -inf, -inf, -inf, -inf],\n",
       "        [0., 0., 0., 0., -inf, -inf, -inf, -inf, -inf, -inf],\n",
       "        [0., 0., 0., 0., 0., -inf, -inf, -inf, -inf, -inf],\n",
       "        [0., 0., 0., 0., 0., 0., -inf, -inf, -inf, -inf],\n",
       "        [0., 0., 0., 0., 0., 0., 0., -inf, -inf, -inf],\n",
       "        [0., 0., 0., 0., 0., 0., 0., 0., -inf, -inf],\n",
       "        [0., 0., 0., 0., 0., 0., 0., 0., 0., -inf],\n",
       "        [0., 0., 0., 0., 0., 0., 0., 0., 0., 0.]])"
      ]
     },
     "execution_count": 17,
     "metadata": {},
     "output_type": "execute_result"
    }
   ],
   "source": [
    "model.decoder.get_attn_subsequent_mask(10)"
   ]
  },
  {
   "cell_type": "code",
   "execution_count": 18,
   "id": "2e9d3cf6-7794-4c57-a38c-1b00ea7cba33",
   "metadata": {},
   "outputs": [
    {
     "data": {
      "text/plain": [
       "CustomTransformerDecoderLayer(\n",
       "  (self_attn): MultiheadAttention(\n",
       "    (out_proj): NonDynamicallyQuantizableLinear(in_features=768, out_features=768, bias=True)\n",
       "  )\n",
       "  (multihead_attn): MultiheadAttention(\n",
       "    (out_proj): NonDynamicallyQuantizableLinear(in_features=768, out_features=768, bias=True)\n",
       "  )\n",
       "  (norm1): LayerNorm((768,), eps=1e-05, elementwise_affine=True)\n",
       "  (norm2): LayerNorm((768,), eps=1e-05, elementwise_affine=True)\n",
       "  (dropout): Dropout(p=0.1, inplace=False)\n",
       "  (feed_forward): Sequential(\n",
       "    (0): Linear(in_features=768, out_features=2048, bias=True)\n",
       "    (1): ReLU()\n",
       "    (2): Dropout(p=0.1, inplace=False)\n",
       "    (3): Linear(in_features=2048, out_features=768, bias=True)\n",
       "  )\n",
       ")"
      ]
     },
     "execution_count": 18,
     "metadata": {},
     "output_type": "execute_result"
    }
   ],
   "source": [
    "model.decoder.decoder_layers[0]"
   ]
  },
  {
   "cell_type": "code",
   "execution_count": 26,
   "id": "34e4676f-1cee-4fa7-851a-f61d38e14e21",
   "metadata": {},
   "outputs": [
    {
     "data": {
      "text/plain": [
       "tensor([[ 0.0008, -0.0032],\n",
       "        [ 0.0008, -0.0032],\n",
       "        [ 0.0008, -0.0032],\n",
       "        [ 0.0008, -0.0032],\n",
       "        [ 0.0008, -0.0032],\n",
       "        [ 0.0008, -0.0032],\n",
       "        [ 0.0008, -0.0032],\n",
       "        [ 0.0008, -0.0032],\n",
       "        [ 0.0008, -0.0032]], device='cuda:0')"
      ]
     },
     "execution_count": 26,
     "metadata": {},
     "output_type": "execute_result"
    }
   ],
   "source": [
    "model.eval()\n",
    "with torch.no_grad():\n",
    "    for i, (images, coords, sin_cos) in enumerate(val_dataloader):\n",
    "        images = images.to(device)\n",
    "        coords_idx_2d = coords // num_patch_1d\n",
    "        coords_idx_1d = coords_idx_2d @ indexer_1d\n",
    "        target_seq = coords_idx_1d.long().to(device)\n",
    "\n",
    "        # model(images, target_seq)\n",
    "        tgt = target_seq\n",
    "        encoder_output = model.encoder(images)\n",
    "        tgt_out = model.decoder(tgt, encoder_output)  # tgt_out: [batch, target_len?, d_model]\n",
    "        output = model.coords_heads(tgt_out)  # output: [batch, target_len?, 2], yx coords is 2d\n",
    "        \n",
    "        loss = criterion(output, sin_cos.to(device))\n",
    "        break\n",
    "output[0]"
   ]
  },
  {
   "cell_type": "code",
   "execution_count": 38,
   "id": "1115ee7d-d1b2-42d4-9b06-e1ae239c3258",
   "metadata": {},
   "outputs": [
    {
     "data": {
      "text/plain": [
       "<matplotlib.image.AxesImage at 0x7f307de246d0>"
      ]
     },
     "execution_count": 38,
     "metadata": {},
     "output_type": "execute_result"
    },
    {
     "data": {
      "image/png": "[encoded data removed]",
      "text/plain": [
       "<Figure size 640x480 with 1 Axes>"
      ]
     },
     "metadata": {},
     "output_type": "display_data"
    }
   ],
   "source": [
    "import matplotlib.pyplot as plt\n",
    "showimg = np.array(images[0][0].cpu())\n",
    "plt.imshow(showimg)\n"
   ]
  },
  {
   "cell_type": "code",
   "execution_count": 42,
   "id": "44171b0b-b304-47f2-ab40-5fbd905230af",
   "metadata": {},
   "outputs": [
    {
     "data": {
      "text/plain": [
       "tensor([[ 193.2596,  111.6764,  146.5872,  ...,  194.4211,  -39.3381,\n",
       "         -140.3569],\n",
       "        [ 193.2596,  111.6764,  146.5872,  ...,  194.4211,  -39.3381,\n",
       "         -140.3569],\n",
       "        [ 193.2596,  111.6764,  146.5872,  ...,  194.4211,  -39.3381,\n",
       "         -140.3569],\n",
       "        ...,\n",
       "        [ 193.2596,  111.6764,  146.5872,  ...,  194.4211,  -39.3381,\n",
       "         -140.3569],\n",
       "        [ 193.2596,  111.6764,  146.5872,  ...,  194.4211,  -39.3381,\n",
       "         -140.3569],\n",
       "        [ 193.2596,  111.6764,  146.5872,  ...,  194.4211,  -39.3381,\n",
       "         -140.3569]], device='cuda:0')"
      ]
     },
     "execution_count": 42,
     "metadata": {},
     "output_type": "execute_result"
    }
   ],
   "source": [
    "encoder_output[0]"
   ]
  },
  {
   "cell_type": "code",
   "execution_count": null,
   "id": "adbbced2-67dd-410d-b37d-e418c5c3209b",
   "metadata": {},
   "outputs": [],
   "source": [
    "    def forward(self, tgt, memory, tgt_mask=None, tgt_pad_mask=None):\n",
    "        \"\"\"\n",
    "        tgt: shape []\n",
    "        \"\"\"\n",
    "        # Self attention with residual connection\n",
    "        attn_output1, _ = self.self_attn(tgt, tgt, tgt, attn_mask=tgt_mask, key_padding_mask=tgt_pad_mask)\n",
    "        tgt = self.norm1(tgt + self.dropout(attn_output1))\n",
    "\n",
    "        # Cross attention with residual connection\n",
    "        attn_output2, attn_weights = self.multihead_attn(tgt, memory, memory)\n",
    "#         attn_output2, attn_weights = self.multihead_attn(tgt, memory, memory, key_padding_mask=tgt_pad_mask)\n",
    "        tgt = self.norm2(tgt + self.dropout(attn_output2))\n",
    "\n",
    "        # Feed forward with residual connection\n",
    "        ff_output = self.feed_forward(tgt)\n",
    "        tgt = tgt + self.dropout(ff_output)\n",
    "\n",
    "        return tgt\n",
    "\n",
    "class CustomTransformerDecoder(nn.Module):\n",
    "    def __init__(self, d_model, nhead, num_decoder_layers, target_vocab_size, pad_id=0):\n",
    "        super(CustomTransformerDecoder, self).__init__()\n",
    "\n",
    "        self.embedding = nn.Embedding(target_vocab_size, d_model)\n",
    "        self.pos_encoder = PositionalEncoding(d_model)\n",
    "        self.decoder_layers = nn.ModuleList([CustomTransformerDecoderLayer(d_model, nhead) for _ in range(num_decoder_layers)])\n",
    "        self.pad_id = pad_id\n",
    "\n",
    "    def get_attn_subsequent_mask(self, sz: int) -> torch.Tensor:\n",
    "        return torch.triu(torch.ones(sz, sz) * float('-inf'), diagonal=1)\n",
    "\n",
    "    def forward(self, tgt, memory):\n",
    "        tgt_pad_mask = (tgt == self.pad_id)\n",
    "        tgt = self.embedding(tgt) # tgt_after_embedding: [batch, target_len, d_model]\n",
    "        tgt = self.pos_encoder(tgt)\n",
    "        \n",
    "        # create masks, then pass to decoder\n",
    "        batch_size, target_len, d_model = tgt.shape\n",
    "        tgt_mask = self.get_attn_subsequent_mask(target_len)\n",
    "\n",
    "        tgt_mask = tgt_mask.to(tgt.device)\n",
    "\n",
    "        for i, layer in enumerate(self.decoder_layers):\n",
    "            tgt = layer(tgt, memory, tgt_mask=tgt_mask, tgt_pad_mask=tgt_pad_mask)\n",
    "\n",
    "        # [batch, target_len?, d_model]\n",
    "        return tgt\n"
   ]
  },
  {
   "cell_type": "code",
   "execution_count": null,
   "id": "8a9e920f",
   "metadata": {},
   "outputs": [],
   "source": [
    "for channel in cross_attention_maps.to('cpu')[0]:\n",
    "    print(channel)\n",
    "    break"
   ]
  },
  {
   "cell_type": "code",
   "execution_count": null,
   "id": "020395a3",
   "metadata": {},
   "outputs": [],
   "source": [
    "for channel in mask_proportions.to('cpu')[0]:\n",
    "    print(channel)\n",
    "    break"
   ]
  },
  {
   "cell_type": "code",
   "execution_count": null,
   "id": "e91e651d",
   "metadata": {},
   "outputs": [],
   "source": []
  },
  {
   "cell_type": "code",
   "execution_count": null,
   "id": "1fd80b0a",
   "metadata": {},
   "outputs": [],
   "source": [
    "for i in "
   ]
  },
  {
   "cell_type": "code",
   "execution_count": null,
   "id": "1d9cf783",
   "metadata": {},
   "outputs": [],
   "source": [
    "predicted_indices = torch.argmax(pred_probs, dim=-1)\n",
    "predicted_indices"
   ]
  },
  {
   "cell_type": "code",
   "execution_count": null,
   "id": "ced4f060",
   "metadata": {},
   "outputs": [],
   "source": [
    "loss_mask"
   ]
  },
  {
   "cell_type": "code",
   "execution_count": null,
   "id": "d60fec84",
   "metadata": {},
   "outputs": [],
   "source": [
    "loss_seq"
   ]
  },
  {
   "cell_type": "code",
   "execution_count": null,
   "id": "de25b065",
   "metadata": {
    "scrolled": true
   },
   "outputs": [],
   "source": [
    "predicted_indices = torch.argmax(pred_probs, dim=-1)\n",
    "predicted_indices"
   ]
  },
  {
   "cell_type": "code",
   "execution_count": null,
   "id": "7909af27",
   "metadata": {},
   "outputs": [],
   "source": [
    "loss_seq"
   ]
  },
  {
   "cell_type": "code",
   "execution_count": null,
   "id": "cdb1122a",
   "metadata": {},
   "outputs": [],
   "source": [
    "loss_mask"
   ]
  },
  {
   "cell_type": "code",
   "execution_count": 19,
   "id": "124809f3",
   "metadata": {},
   "outputs": [
    {
     "data": {
      "text/plain": [
       "tensor(0.7469, device='cuda:2')"
      ]
     },
     "execution_count": 19,
     "metadata": {},
     "output_type": "execute_result"
    }
   ],
   "source": [
    "loss_seq"
   ]
  },
  {
   "cell_type": "code",
   "execution_count": 13,
   "id": "934ffb21",
   "metadata": {
    "scrolled": true
   },
   "outputs": [
    {
     "name": "stdout",
     "output_type": "stream",
     "text": [
      "torch.Size([12, 11])\n",
      "tensor(0.7357)\n"
     ]
    }
   ],
   "source": [
    "import torch.nn.functional as F\n",
    "print(predicted_indices.shape)\n",
    "pred_one_hot = F.one_hot(predicted_indices).float()\n",
    "gt_one_hot = F.one_hot(target_seq).float()\n",
    "loss = F.binary_cross_entropy_with_logits(pred_one_hot, gt_one_hot)\n",
    "\n",
    "print(loss)"
   ]
  },
  {
   "cell_type": "code",
   "execution_count": 9,
   "id": "a0bf5929",
   "metadata": {},
   "outputs": [
    {
     "data": {
      "text/plain": [
       "tensor([[ 0,  1,  2,  3,  4,  5, 10, 10, 10, 10, 10],\n",
       "        [ 0,  1,  2,  3,  4,  5,  6,  7, 10, 10, 10],\n",
       "        [ 0,  1,  2,  3,  4,  5, 10, 10, 10, 10, 10],\n",
       "        [ 0,  1,  2,  3,  4,  5,  6,  7,  8, 10, 10],\n",
       "        [ 0,  1,  2,  3,  4,  5,  6,  7,  8, 10, 10],\n",
       "        [ 0,  1,  2,  3,  4,  5, 10, 10, 10, 10, 10],\n",
       "        [ 0,  1,  2,  3,  4,  5,  6,  7,  8, 10, 10],\n",
       "        [ 0,  1,  2,  3,  4,  5,  6,  7,  8, 10, 10],\n",
       "        [ 0,  1,  2,  3,  4,  5,  6, 10, 10, 10, 10],\n",
       "        [ 0,  1,  2,  3,  4,  5,  6, 10, 10, 10, 10],\n",
       "        [ 0,  1,  2,  3,  4,  5, 10, 10, 10, 10, 10],\n",
       "        [ 0,  1,  2,  3,  4,  5,  6,  7, 10, 10, 10]])"
      ]
     },
     "execution_count": 9,
     "metadata": {},
     "output_type": "execute_result"
    }
   ],
   "source": [
    "target_seq"
   ]
  },
  {
   "cell_type": "code",
   "execution_count": null,
   "id": "aca29df2",
   "metadata": {
    "scrolled": true
   },
   "outputs": [],
   "source": [
    "import torch\n",
    "import matplotlib.pyplot as plt\n",
    "\n",
    "def recreate_image_from_attention(cross_attention_map, img_size, patch_size):\n",
    "    \"\"\"\n",
    "    cross_attention_map: shape [11, 1024] (or any [channel_out, flattened_img_size])\n",
    "    img_size: Original image size (e.g., 224 for a 224x224 image)\n",
    "    patch_size: The size of each patch (e.g., 16 for 16x16 patches)\n",
    "    \"\"\"\n",
    "    channel_out, flattened_img_size = cross_attention_map.shape\n",
    "    patches_per_dim = img_size // patch_size\n",
    "    \n",
    "    # Reshape to [channel_out, patches_per_dim, patches_per_dim]\n",
    "    reshaped_attention_map = cross_attention_map.view(channel_out, patches_per_dim, patches_per_dim)\n",
    "    \n",
    "    # Initialize tensor to store the recreated image\n",
    "    recreated_images = torch.zeros((channel_out, img_size, img_size))\n",
    "    \n",
    "    # Fill in the recreated image tensor\n",
    "    for i in range(patches_per_dim):\n",
    "        for j in range(patches_per_dim):\n",
    "            recreated_images[:, i*patch_size:(i+1)*patch_size, j*patch_size:(j+1)*patch_size] = reshaped_attention_map[:, i, j].unsqueeze(1).unsqueeze(2)\n",
    "            \n",
    "    return recreated_images\n",
    "\n",
    "\n",
    "# Call the function\n",
    "recreated_images = recreate_image_from_attention(cross_attention_maps[0][0], image_size, patch_size)\n",
    "\n",
    "# Visualize\n",
    "for i in range(recreated_images.shape[0]):\n",
    "    plt.figure()\n",
    "    plt.imshow(recreated_images[i].detach().numpy(), cmap=\"gray\")\n",
    "    plt.title(f\"Channel {i}\")\n",
    "    plt.show()\n"
   ]
  },
  {
   "cell_type": "code",
   "execution_count": null,
   "id": "7a68e7dd",
   "metadata": {},
   "outputs": [],
   "source": [
    "recreated_images = recreate_image_from_attention(mask_proportions[0], image_size, patch_size)\n",
    "\n",
    "# Visualize\n",
    "for i in range(recreated_images.shape[0]):\n",
    "    plt.figure()\n",
    "    plt.imshow(recreated_images[i].detach().numpy(), cmap=\"gray\")\n",
    "    plt.title(f\"Channel {i}\")\n",
    "    plt.show()\n"
   ]
  },
  {
   "cell_type": "markdown",
   "id": "97230f80",
   "metadata": {},
   "source": [
    "## Idea \n",
    "\n"
   ]
  },
  {
   "cell_type": "markdown",
   "id": "47da6744",
   "metadata": {},
   "source": [
    "* クラスラベルの順列を出力系列とするのは、あまりに難しそう。\n",
    "* docoderに入力するのは、各パッチの特徴を並べたもの"
   ]
  },
  {
   "cell_type": "markdown",
   "id": "48146461",
   "metadata": {},
   "source": [
    "target_seqの系列長と最終的に出力してほしいsequence_lengthは一般には同じである必要はありません。Transformerモデルの訓練時においては、通常、ターゲット系列（target_seq）は入力として使われるだけでなく、訓練のラベルとしても使用されます。その場合、target_seqの系列長は出力と一致するように設計されることが多いです。\n",
    "\n",
    "しかし、推論（予測）時には、通常、開始トークンだけをtarget_seqとして使用し、モデルがその後のトークンを一つずつ生成するようにします。この場合、target_seqの初期の長さは1であり、出力のsequence_lengthは1から始まって任意の長さになり得ます（停止条件または最大長に達するまで）。\n",
    "\n",
    "簡単に言うと、訓練と推論でtarget_seqの役割が少し異なるため、その長さもそれに応じて変わります。"
   ]
  },
  {
   "cell_type": "code",
   "execution_count": 52,
   "id": "32e7d030",
   "metadata": {},
   "outputs": [
    {
     "data": {
      "text/plain": [
       "True"
      ]
     },
     "execution_count": 52,
     "metadata": {},
     "output_type": "execute_result"
    }
   ],
   "source": [
    "predicted_indices = torch.argmax(output, dim=-1)\n",
    "predicted_indices.shape == target_seq.shape"
   ]
  },
  {
   "cell_type": "code",
   "execution_count": null,
   "id": "34417d66",
   "metadata": {},
   "outputs": [],
   "source": []
  },
  {
   "cell_type": "code",
   "execution_count": null,
   "id": "be11564d",
   "metadata": {},
   "outputs": [],
   "source": []
  }
 ],
 "metadata": {
  "kernelspec": {
   "display_name": "Python 3 (ipykernel)",
   "language": "python",
   "name": "python3"
  },
  "language_info": {
   "codemirror_mode": {
    "name": "ipython",
    "version": 3
   },
   "file_extension": ".py",
   "mimetype": "text/x-python",
   "name": "python",
   "nbconvert_exporter": "python",
   "pygments_lexer": "ipython3",
   "version": "3.10.13"
  }
 },
 "nbformat": 4,
 "nbformat_minor": 5
}
